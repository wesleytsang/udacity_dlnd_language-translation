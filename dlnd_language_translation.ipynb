{
 "cells": [
  {
   "cell_type": "markdown",
   "metadata": {
    "collapsed": true
   },
   "source": [
    "# Language Translation\n",
    "In this project, you’re going to take a peek into the realm of neural network machine translation.  You’ll be training a sequence to sequence model on a dataset of English and French sentences that can translate new sentences from English to French.\n",
    "## Get the Data\n",
    "Since translating the whole language of English to French will take lots of time to train, we have provided you with a small portion of the English corpus."
   ]
  },
  {
   "cell_type": "code",
   "execution_count": 1,
   "metadata": {
    "collapsed": true
   },
   "outputs": [],
   "source": [
    "\"\"\"\n",
    "DON'T MODIFY ANYTHING IN THIS CELL\n",
    "\"\"\"\n",
    "import helper\n",
    "import problem_unittests as tests\n",
    "\n",
    "source_path = 'data/small_vocab_en'\n",
    "target_path = 'data/small_vocab_fr'\n",
    "source_text = helper.load_data(source_path)\n",
    "target_text = helper.load_data(target_path)"
   ]
  },
  {
   "cell_type": "markdown",
   "metadata": {},
   "source": [
    "## Explore the Data\n",
    "Play around with view_sentence_range to view different parts of the data."
   ]
  },
  {
   "cell_type": "code",
   "execution_count": 2,
   "metadata": {},
   "outputs": [
    {
     "name": "stdout",
     "output_type": "stream",
     "text": [
      "Dataset Stats\n",
      "Roughly the number of unique words: 227\n",
      "Number of sentences: 137861\n",
      "Average number of words in a sentence: 13.225277634719028\n",
      "\n",
      "English sentences 0 to 10:\n",
      "new jersey is sometimes quiet during autumn , and it is snowy in april .\n",
      "the united states is usually chilly during july , and it is usually freezing in november .\n",
      "california is usually quiet during march , and it is usually hot in june .\n",
      "the united states is sometimes mild during june , and it is cold in september .\n",
      "your least liked fruit is the grape , but my least liked is the apple .\n",
      "his favorite fruit is the orange , but my favorite is the grape .\n",
      "paris is relaxing during december , but it is usually chilly in july .\n",
      "new jersey is busy during spring , and it is never hot in march .\n",
      "our least liked fruit is the lemon , but my least liked is the grape .\n",
      "the united states is sometimes busy during january , and it is sometimes warm in november .\n",
      "\n",
      "French sentences 0 to 10:\n",
      "new jersey est parfois calme pendant l' automne , et il est neigeux en avril .\n",
      "les états-unis est généralement froid en juillet , et il gèle habituellement en novembre .\n",
      "california est généralement calme en mars , et il est généralement chaud en juin .\n",
      "les états-unis est parfois légère en juin , et il fait froid en septembre .\n",
      "votre moins aimé fruit est le raisin , mais mon moins aimé est la pomme .\n",
      "son fruit préféré est l'orange , mais mon préféré est le raisin .\n",
      "paris est relaxant en décembre , mais il est généralement froid en juillet .\n",
      "new jersey est occupé au printemps , et il est jamais chaude en mars .\n",
      "notre fruit est moins aimé le citron , mais mon moins aimé est le raisin .\n",
      "les états-unis est parfois occupé en janvier , et il est parfois chaud en novembre .\n"
     ]
    }
   ],
   "source": [
    "view_sentence_range = (0, 10)\n",
    "\n",
    "\"\"\"\n",
    "DON'T MODIFY ANYTHING IN THIS CELL\n",
    "\"\"\"\n",
    "import numpy as np\n",
    "\n",
    "print('Dataset Stats')\n",
    "print('Roughly the number of unique words: {}'.format(len({word: None for word in source_text.split()})))\n",
    "\n",
    "sentences = source_text.split('\\n')\n",
    "word_counts = [len(sentence.split()) for sentence in sentences]\n",
    "print('Number of sentences: {}'.format(len(sentences)))\n",
    "print('Average number of words in a sentence: {}'.format(np.average(word_counts)))\n",
    "\n",
    "print()\n",
    "print('English sentences {} to {}:'.format(*view_sentence_range))\n",
    "print('\\n'.join(source_text.split('\\n')[view_sentence_range[0]:view_sentence_range[1]]))\n",
    "print()\n",
    "print('French sentences {} to {}:'.format(*view_sentence_range))\n",
    "print('\\n'.join(target_text.split('\\n')[view_sentence_range[0]:view_sentence_range[1]]))"
   ]
  },
  {
   "cell_type": "markdown",
   "metadata": {},
   "source": [
    "## Implement Preprocessing Function\n",
    "### Text to Word Ids\n",
    "As you did with other RNNs, you must turn the text into a number so the computer can understand it. In the function `text_to_ids()`, you'll turn `source_text` and `target_text` from words to ids.  However, you need to add the `<EOS>` word id at the end of `target_text`.  This will help the neural network predict when the sentence should end.\n",
    "\n",
    "You can get the `<EOS>` word id by doing:\n",
    "```python\n",
    "target_vocab_to_int['<EOS>']\n",
    "```\n",
    "You can get other word ids using `source_vocab_to_int` and `target_vocab_to_int`."
   ]
  },
  {
   "cell_type": "code",
   "execution_count": 3,
   "metadata": {},
   "outputs": [
    {
     "name": "stdout",
     "output_type": "stream",
     "text": [
      "Tests Passed\n"
     ]
    }
   ],
   "source": [
    "def text_to_ids(source_text, target_text, source_vocab_to_int, target_vocab_to_int):\n",
    "    \"\"\"\n",
    "    Convert source and target text to proper word ids\n",
    "    :param source_text: String that contains all the source text.\n",
    "    :param target_text: String that contains all the target text.\n",
    "    :param source_vocab_to_int: Dictionary to go from the source words to an id\n",
    "    :param target_vocab_to_int: Dictionary to go from the target words to an id\n",
    "    :return: A tuple of lists (source_id_text, target_id_text)\n",
    "    \"\"\"\n",
    "    # TODO: Implement Function\n",
    "    source_id_text = [[source_vocab_to_int[word] for word in sentence.split()] for sentence in source_text.split(\"\\n\")]\n",
    "    target_id_text = [[target_vocab_to_int[word] for word in sentence.split()]+[target_vocab_to_int['<EOS>']] for sentence in target_text.split(\"\\n\")]\n",
    "    return source_id_text, target_id_text\n",
    "\n",
    "\"\"\"\n",
    "DON'T MODIFY ANYTHING IN THIS CELL THAT IS BELOW THIS LINE\n",
    "\"\"\"\n",
    "tests.test_text_to_ids(text_to_ids)"
   ]
  },
  {
   "cell_type": "markdown",
   "metadata": {},
   "source": [
    "### Preprocess all the data and save it\n",
    "Running the code cell below will preprocess all the data and save it to file."
   ]
  },
  {
   "cell_type": "code",
   "execution_count": 4,
   "metadata": {
    "collapsed": true
   },
   "outputs": [],
   "source": [
    "\"\"\"\n",
    "DON'T MODIFY ANYTHING IN THIS CELL\n",
    "\"\"\"\n",
    "helper.preprocess_and_save_data(source_path, target_path, text_to_ids)"
   ]
  },
  {
   "cell_type": "markdown",
   "metadata": {},
   "source": [
    "# Check Point\n",
    "This is your first checkpoint. If you ever decide to come back to this notebook or have to restart the notebook, you can start from here. The preprocessed data has been saved to disk."
   ]
  },
  {
   "cell_type": "code",
   "execution_count": 5,
   "metadata": {
    "collapsed": true
   },
   "outputs": [],
   "source": [
    "\"\"\"\n",
    "DON'T MODIFY ANYTHING IN THIS CELL\n",
    "\"\"\"\n",
    "import numpy as np\n",
    "import helper\n",
    "import problem_unittests as tests\n",
    "\n",
    "(source_int_text, target_int_text), (source_vocab_to_int, target_vocab_to_int), _ = helper.load_preprocess()"
   ]
  },
  {
   "cell_type": "markdown",
   "metadata": {},
   "source": [
    "### Check the Version of TensorFlow and Access to GPU\n",
    "This will check to make sure you have the correct version of TensorFlow and access to a GPU"
   ]
  },
  {
   "cell_type": "code",
   "execution_count": 6,
   "metadata": {},
   "outputs": [
    {
     "name": "stdout",
     "output_type": "stream",
     "text": [
      "TensorFlow Version: 1.1.0\n",
      "Default GPU Device: /gpu:0\n"
     ]
    }
   ],
   "source": [
    "\"\"\"\n",
    "DON'T MODIFY ANYTHING IN THIS CELL\n",
    "\"\"\"\n",
    "from distutils.version import LooseVersion\n",
    "import warnings\n",
    "import tensorflow as tf\n",
    "from tensorflow.python.layers.core import Dense\n",
    "\n",
    "# Check TensorFlow Version\n",
    "assert LooseVersion(tf.__version__) >= LooseVersion('1.1'), 'Please use TensorFlow version 1.1 or newer'\n",
    "print('TensorFlow Version: {}'.format(tf.__version__))\n",
    "\n",
    "# Check for a GPU\n",
    "if not tf.test.gpu_device_name():\n",
    "    warnings.warn('No GPU found. Please use a GPU to train your neural network.')\n",
    "else:\n",
    "    print('Default GPU Device: {}'.format(tf.test.gpu_device_name()))"
   ]
  },
  {
   "cell_type": "markdown",
   "metadata": {},
   "source": [
    "## Build the Neural Network\n",
    "You'll build the components necessary to build a Sequence-to-Sequence model by implementing the following functions below:\n",
    "- `model_inputs`\n",
    "- `process_decoder_input`\n",
    "- `encoding_layer`\n",
    "- `decoding_layer_train`\n",
    "- `decoding_layer_infer`\n",
    "- `decoding_layer`\n",
    "- `seq2seq_model`\n",
    "\n",
    "### Input\n",
    "Implement the `model_inputs()` function to create TF Placeholders for the Neural Network. It should create the following placeholders:\n",
    "\n",
    "- Input text placeholder named \"input\" using the TF Placeholder name parameter with rank 2.\n",
    "- Targets placeholder with rank 2.\n",
    "- Learning rate placeholder with rank 0.\n",
    "- Keep probability placeholder named \"keep_prob\" using the TF Placeholder name parameter with rank 0.\n",
    "- Target sequence length placeholder named \"target_sequence_length\" with rank 1\n",
    "- Max target sequence length tensor named \"max_target_len\" getting its value from applying tf.reduce_max on the target_sequence_length placeholder. Rank 0.\n",
    "- Source sequence length placeholder named \"source_sequence_length\" with rank 1\n",
    "\n",
    "Return the placeholders in the following the tuple (input, targets, learning rate, keep probability, target sequence length, max target sequence length, source sequence length)"
   ]
  },
  {
   "cell_type": "code",
   "execution_count": 7,
   "metadata": {},
   "outputs": [
    {
     "name": "stdout",
     "output_type": "stream",
     "text": [
      "Tests Passed\n"
     ]
    }
   ],
   "source": [
    "def model_inputs():\n",
    "    \"\"\"\n",
    "    Create TF Placeholders for input, targets, learning rate, and lengths of source and target sequences.\n",
    "    :return: Tuple (input, targets, learning rate, keep probability, target sequence length,\n",
    "    max target sequence length, source sequence length)\n",
    "    \"\"\"\n",
    "    # TODO: Implement Function\n",
    "    inputs = tf.placeholder(tf.int32, [None, None],name=\"input\")\n",
    "    targets = tf.placeholder(tf.int32,[None, None])\n",
    "    learning_rate = tf.placeholder(tf.float32)\n",
    "    keep_probability = tf.placeholder(tf.float32, None, name=\"keep_prob\")\n",
    "    target_sequence_length = tf.placeholder(tf.int32, (None,), name=\"target_sequence_length\")\n",
    "    max_target_sequence_length = tf.reduce_max(target_sequence_length, name=\"max_target_length\")\n",
    "    source_sequence_length = tf.placeholder(tf.int32, (None,),name=\"source_sequence_length\")\n",
    "    \n",
    "    return inputs, targets, learning_rate, keep_probability, target_sequence_length, max_target_sequence_length, source_sequence_length\n",
    "\n",
    "\n",
    "\"\"\"\n",
    "DON'T MODIFY ANYTHING IN THIS CELL THAT IS BELOW THIS LINE\n",
    "\"\"\"\n",
    "tests.test_model_inputs(model_inputs)"
   ]
  },
  {
   "cell_type": "markdown",
   "metadata": {},
   "source": [
    "### Process Decoder Input\n",
    "Implement `process_decoder_input` by removing the last word id from each batch in `target_data` and concat the GO ID to the begining of each batch."
   ]
  },
  {
   "cell_type": "code",
   "execution_count": 8,
   "metadata": {},
   "outputs": [
    {
     "name": "stdout",
     "output_type": "stream",
     "text": [
      "Tests Passed\n"
     ]
    }
   ],
   "source": [
    "def process_decoder_input(target_data, target_vocab_to_int, batch_size):\n",
    "    \"\"\"\n",
    "    Preprocess target data for encoding\n",
    "    :param target_data: Target Placehoder\n",
    "    :param target_vocab_to_int: Dictionary to go from the target words to an id\n",
    "    :param batch_size: Batch Size\n",
    "    :return: Preprocessed target data\n",
    "    \"\"\"\n",
    "    # TODO: Implement Function\n",
    "    without_last = tf.strided_slice(target_data, [0, 0], [batch_size, -1], [1, 1])\n",
    "    output = tf.concat([tf.fill([batch_size, 1], target_vocab_to_int['<GO>']), without_last], 1)\n",
    "    return output\n",
    "\n",
    "\"\"\"\n",
    "DON'T MODIFY ANYTHING IN THIS CELL THAT IS BELOW THIS LINE\n",
    "\"\"\"\n",
    "tests.test_process_encoding_input(process_decoder_input)"
   ]
  },
  {
   "cell_type": "markdown",
   "metadata": {},
   "source": [
    "### Encoding\n",
    "Implement `encoding_layer()` to create a Encoder RNN layer:\n",
    " * Embed the encoder input using [`tf.contrib.layers.embed_sequence`](https://www.tensorflow.org/api_docs/python/tf/contrib/layers/embed_sequence)\n",
    " * Construct a [stacked](https://github.com/tensorflow/tensorflow/blob/6947f65a374ebf29e74bb71e36fd82760056d82c/tensorflow/docs_src/tutorials/recurrent.md#stacking-multiple-lstms) [`tf.contrib.rnn.LSTMCell`](https://www.tensorflow.org/api_docs/python/tf/contrib/rnn/LSTMCell) wrapped in a [`tf.contrib.rnn.DropoutWrapper`](https://www.tensorflow.org/api_docs/python/tf/contrib/rnn/DropoutWrapper)\n",
    " * Pass cell and embedded input to [`tf.nn.dynamic_rnn()`](https://www.tensorflow.org/api_docs/python/tf/nn/dynamic_rnn)"
   ]
  },
  {
   "cell_type": "code",
   "execution_count": 9,
   "metadata": {
    "scrolled": false
   },
   "outputs": [
    {
     "name": "stdout",
     "output_type": "stream",
     "text": [
      "Tests Passed\n"
     ]
    }
   ],
   "source": [
    "from imp import reload\n",
    "reload(tests)\n",
    "\n",
    "def encoding_layer(rnn_inputs, rnn_size, num_layers, keep_prob, \n",
    "                   source_sequence_length, source_vocab_size, \n",
    "                   encoding_embedding_size):\n",
    "    \"\"\"\n",
    "    Create encoding layer\n",
    "    :param rnn_inputs: Inputs for the RNN\n",
    "    :param rnn_size: RNN Size\n",
    "    :param num_layers: Number of layers\n",
    "    :param keep_prob: Dropout keep probability\n",
    "    :param source_sequence_length: a list of the lengths of each sequence in the batch\n",
    "    :param source_vocab_size: vocabulary size of source data\n",
    "    :param encoding_embedding_size: embedding size of source data\n",
    "    :return: tuple (RNN output, RNN state)\n",
    "    \"\"\"\n",
    "    # TODO: Implement Function\n",
    "    def make_cell(rnn_size):\n",
    "        cell = tf.contrib.rnn.LSTMCell(rnn_size, initializer=tf.random_uniform_initializer(-0.1, 0.1, seed=2))\n",
    "        return cell\n",
    "    \n",
    "    inputs = tf.contrib.layers.embed_sequence(rnn_inputs, source_vocab_size,encoding_embedding_size)\n",
    "    cell = tf.contrib.rnn.MultiRNNCell([make_cell(rnn_size) for _ in range(num_layers)])\n",
    "    cell = tf.contrib.rnn.DropoutWrapper(cell, output_keep_prob=keep_prob)\n",
    "    enc_output, enc_state = tf.nn.dynamic_rnn(cell, inputs, sequence_length=source_sequence_length, dtype=tf.float32)\n",
    "    return enc_output, enc_state\n",
    "\n",
    "\"\"\"\n",
    "DON'T MODIFY ANYTHING IN THIS CELL THAT IS BELOW THIS LINE\n",
    "\"\"\"\n",
    "tests.test_encoding_layer(encoding_layer)"
   ]
  },
  {
   "cell_type": "markdown",
   "metadata": {},
   "source": [
    "### Decoding - Training\n",
    "Create a training decoding layer:\n",
    "* Create a [`tf.contrib.seq2seq.TrainingHelper`](https://www.tensorflow.org/api_docs/python/tf/contrib/seq2seq/TrainingHelper) \n",
    "* Create a [`tf.contrib.seq2seq.BasicDecoder`](https://www.tensorflow.org/api_docs/python/tf/contrib/seq2seq/BasicDecoder)\n",
    "* Obtain the decoder outputs from [`tf.contrib.seq2seq.dynamic_decode`](https://www.tensorflow.org/api_docs/python/tf/contrib/seq2seq/dynamic_decode)"
   ]
  },
  {
   "cell_type": "code",
   "execution_count": 10,
   "metadata": {},
   "outputs": [
    {
     "name": "stdout",
     "output_type": "stream",
     "text": [
      "Tests Passed\n"
     ]
    }
   ],
   "source": [
    "\n",
    "def decoding_layer_train(encoder_state, dec_cell, dec_embed_input, \n",
    "                         target_sequence_length, max_summary_length, \n",
    "                         output_layer, keep_prob):\n",
    "    \"\"\"\n",
    "    Create a decoding layer for training\n",
    "    :param encoder_state: Encoder State\n",
    "    :param dec_cell: Decoder RNN Cell\n",
    "    :param dec_embed_input: Decoder embedded input\n",
    "    :param target_sequence_length: The lengths of each sequence in the target batch\n",
    "    :param max_summary_length: The length of the longest sequence in the batch\n",
    "    :param output_layer: Function to apply the output layer\n",
    "    :param keep_prob: Dropout keep probability\n",
    "    :return: BasicDecoderOutput containing training logits and sample_id\n",
    "    \"\"\"\n",
    "    # TODO: Implement Function\n",
    "    training_helper = tf.contrib.seq2seq.TrainingHelper(dec_embed_input, target_sequence_length)\n",
    "    training_decoder = tf.contrib.seq2seq.BasicDecoder(dec_cell, training_helper, encoder_state, output_layer)\n",
    "    training_decoder_output = tf.contrib.seq2seq.dynamic_decode(training_decoder, impute_finished=True, maximum_iterations=max_summary_length)[0]\n",
    "    return training_decoder_output\n",
    "\n",
    "\n",
    "\n",
    "\"\"\"\n",
    "DON'T MODIFY ANYTHING IN THIS CELL THAT IS BELOW THIS LINE\n",
    "\"\"\"\n",
    "tests.test_decoding_layer_train(decoding_layer_train)"
   ]
  },
  {
   "cell_type": "markdown",
   "metadata": {},
   "source": [
    "### Decoding - Inference\n",
    "Create inference decoder:\n",
    "* Create a [`tf.contrib.seq2seq.GreedyEmbeddingHelper`](https://www.tensorflow.org/api_docs/python/tf/contrib/seq2seq/GreedyEmbeddingHelper)\n",
    "* Create a [`tf.contrib.seq2seq.BasicDecoder`](https://www.tensorflow.org/api_docs/python/tf/contrib/seq2seq/BasicDecoder)\n",
    "* Obtain the decoder outputs from [`tf.contrib.seq2seq.dynamic_decode`](https://www.tensorflow.org/api_docs/python/tf/contrib/seq2seq/dynamic_decode)"
   ]
  },
  {
   "cell_type": "code",
   "execution_count": 11,
   "metadata": {
    "scrolled": true
   },
   "outputs": [
    {
     "name": "stdout",
     "output_type": "stream",
     "text": [
      "Tests Passed\n"
     ]
    }
   ],
   "source": [
    "def decoding_layer_infer(encoder_state, dec_cell, dec_embeddings, start_of_sequence_id,\n",
    "                         end_of_sequence_id, max_target_sequence_length,\n",
    "                         vocab_size, output_layer, batch_size, keep_prob):\n",
    "    \"\"\"\n",
    "    Create a decoding layer for inference\n",
    "    :param encoder_state: Encoder state\n",
    "    :param dec_cell: Decoder RNN Cell\n",
    "    :param dec_embeddings: Decoder embeddings\n",
    "    :param start_of_sequence_id: GO ID\n",
    "    :param end_of_sequence_id: EOS Id\n",
    "    :param max_target_sequence_length: Maximum length of target sequences\n",
    "    :param vocab_size: Size of decoder/target vocabulary\n",
    "    :param decoding_scope: TenorFlow Variable Scope for decoding\n",
    "    :param output_layer: Function to apply the output layer\n",
    "    :param batch_size: Batch size\n",
    "    :param keep_prob: Dropout keep probability\n",
    "    :return: BasicDecoderOutput containing inference logits and sample_id\n",
    "    \"\"\"\n",
    "    # TODO: Implement Function\n",
    "    start_tokens = tf.tile(tf.constant([start_of_sequence_id], dtype=tf.int32), [batch_size], name='start_tokens')\n",
    "    \n",
    "    inference_helper = tf.contrib.seq2seq.GreedyEmbeddingHelper(dec_embeddings,\n",
    "                                                                start_tokens,\n",
    "                                                                end_of_sequence_id)\n",
    "    inference_decoder = tf.contrib.seq2seq.BasicDecoder(dec_cell,\n",
    "                                                        inference_helper,\n",
    "                                                        encoder_state,\n",
    "                                                        output_layer)\n",
    "    inference_decoder_output = tf.contrib.seq2seq.dynamic_decode(inference_decoder,\n",
    "                                                            impute_finished=True,\n",
    "                                                            maximum_iterations=max_target_sequence_length)[0]\n",
    "    return inference_decoder_output\n",
    "\n",
    "\n",
    "\n",
    "\"\"\"\n",
    "DON'T MODIFY ANYTHING IN THIS CELL THAT IS BELOW THIS LINE\n",
    "\"\"\"\n",
    "tests.test_decoding_layer_infer(decoding_layer_infer)"
   ]
  },
  {
   "cell_type": "markdown",
   "metadata": {},
   "source": [
    "### Build the Decoding Layer\n",
    "Implement `decoding_layer()` to create a Decoder RNN layer.\n",
    "\n",
    "* Embed the target sequences\n",
    "* Construct the decoder LSTM cell (just like you constructed the encoder cell above)\n",
    "* Create an output layer to map the outputs of the decoder to the elements of our vocabulary\n",
    "* Use the your `decoding_layer_train(encoder_state, dec_cell, dec_embed_input, target_sequence_length, max_target_sequence_length, output_layer, keep_prob)` function to get the training logits.\n",
    "* Use your `decoding_layer_infer(encoder_state, dec_cell, dec_embeddings, start_of_sequence_id, end_of_sequence_id, max_target_sequence_length, vocab_size, output_layer, batch_size, keep_prob)` function to get the inference logits.\n",
    "\n",
    "Note: You'll need to use [tf.variable_scope](https://www.tensorflow.org/api_docs/python/tf/variable_scope) to share variables between training and inference."
   ]
  },
  {
   "cell_type": "code",
   "execution_count": 12,
   "metadata": {},
   "outputs": [
    {
     "name": "stdout",
     "output_type": "stream",
     "text": [
      "Tests Passed\n"
     ]
    }
   ],
   "source": [
    "def decoding_layer(dec_input, encoder_state,\n",
    "                   target_sequence_length, max_target_sequence_length,\n",
    "                   rnn_size,\n",
    "                   num_layers, target_vocab_to_int, target_vocab_size,\n",
    "                   batch_size, keep_prob, decoding_embedding_size):\n",
    "    \"\"\"\n",
    "    Create decoding layer\n",
    "    :param dec_input: Decoder input\n",
    "    :param encoder_state: Encoder state\n",
    "    :param target_sequence_length: The lengths of each sequence in the target batch\n",
    "    :param max_target_sequence_length: Maximum length of target sequences\n",
    "    :param rnn_size: RNN Size\n",
    "    :param num_layers: Number of layers\n",
    "    :param target_vocab_to_int: Dictionary to go from the target words to an id\n",
    "    :param target_vocab_size: Size of target vocabulary\n",
    "    :param batch_size: The size of the batch\n",
    "    :param keep_prob: Dropout keep probability\n",
    "    :param decoding_embedding_size: Decoding embedding size\n",
    "    :return: Tuple of (Training BasicDecoderOutput, Inference BasicDecoderOutput)\n",
    "    \"\"\"\n",
    "    # TODO: Implement Function\n",
    "    dec_embeddings = tf.Variable(tf.random_uniform([target_vocab_size, decoding_embedding_size]))\n",
    "    dec_embed_input = tf.nn.embedding_lookup(dec_embeddings, dec_input)\n",
    "    \n",
    "    def make_cell(rnn_size):\n",
    "        dec_cell = tf.contrib.rnn.LSTMCell(rnn_size, initializer=tf.random_uniform_initializer(-0.1, 0.1, seed=2))\n",
    "        return dec_cell\n",
    "    \n",
    "    dec_cell = tf.contrib.rnn.MultiRNNCell([make_cell(rnn_size) for _ in range(num_layers)])\n",
    "    \n",
    "    output_layer = Dense(target_vocab_size, kernel_initializer = tf.truncated_normal_initializer(mean = 0.0, stddev=0.1))\n",
    "    \n",
    "    with tf.variable_scope(\"decode\"):\n",
    "        training_logit = decoding_layer_train(encoder_state, dec_cell, dec_embed_input, target_sequence_length, max_target_sequence_length, output_layer, keep_prob)\n",
    "    \n",
    "    with tf.variable_scope(\"decode\", reuse=True):\n",
    "        inference_logit = decoding_layer_infer(encoder_state, dec_cell, dec_embeddings, target_vocab_to_int['<GO>'], target_vocab_to_int['<EOS>'], max_target_sequence_length, target_vocab_size, output_layer, batch_size, keep_prob)\n",
    "    \n",
    "    return training_logit, inference_logit\n",
    "\n",
    "\n",
    "\n",
    "\"\"\"\n",
    "DON'T MODIFY ANYTHING IN THIS CELL THAT IS BELOW THIS LINE\n",
    "\"\"\"\n",
    "tests.test_decoding_layer(decoding_layer)"
   ]
  },
  {
   "cell_type": "markdown",
   "metadata": {},
   "source": [
    "### Build the Neural Network\n",
    "Apply the functions you implemented above to:\n",
    "\n",
    "- Encode the input using your `encoding_layer(rnn_inputs, rnn_size, num_layers, keep_prob,  source_sequence_length, source_vocab_size, encoding_embedding_size)`.\n",
    "- Process target data using your `process_decoder_input(target_data, target_vocab_to_int, batch_size)` function.\n",
    "- Decode the encoded input using your `decoding_layer(dec_input, enc_state, target_sequence_length, max_target_sentence_length, rnn_size, num_layers, target_vocab_to_int, target_vocab_size, batch_size, keep_prob, dec_embedding_size)` function."
   ]
  },
  {
   "cell_type": "code",
   "execution_count": 13,
   "metadata": {},
   "outputs": [
    {
     "name": "stdout",
     "output_type": "stream",
     "text": [
      "Tests Passed\n"
     ]
    }
   ],
   "source": [
    "def seq2seq_model(input_data, target_data, keep_prob, batch_size,\n",
    "                  source_sequence_length, target_sequence_length,\n",
    "                  max_target_sentence_length,\n",
    "                  source_vocab_size, target_vocab_size,\n",
    "                  enc_embedding_size, dec_embedding_size,\n",
    "                  rnn_size, num_layers, target_vocab_to_int):\n",
    "    \"\"\"\n",
    "    Build the Sequence-to-Sequence part of the neural network\n",
    "    :param input_data: Input placeholder\n",
    "    :param target_data: Target placeholder\n",
    "    :param keep_prob: Dropout keep probability placeholder\n",
    "    :param batch_size: Batch Size\n",
    "    :param source_sequence_length: Sequence Lengths of source sequences in the batch\n",
    "    :param target_sequence_length: Sequence Lengths of target sequences in the batch\n",
    "    :param source_vocab_size: Source vocabulary size\n",
    "    :param target_vocab_size: Target vocabulary size\n",
    "    :param enc_embedding_size: Decoder embedding size\n",
    "    :param dec_embedding_size: Encoder embedding size\n",
    "    :param rnn_size: RNN Size\n",
    "    :param num_layers: Number of layers\n",
    "    :param target_vocab_to_int: Dictionary to go from the target words to an id\n",
    "    :return: Tuple of (Training BasicDecoderOutput, Inference BasicDecoderOutput)\n",
    "    \"\"\"\n",
    "    # TODO: Implement Function\n",
    "    _, enc_state = encoding_layer(input_data,\n",
    "                                  rnn_size,\n",
    "                                  num_layers,\n",
    "                                  keep_prob,\n",
    "                                  source_sequence_length,\n",
    "                                  source_vocab_size,\n",
    "                                  enc_embedding_size)\n",
    "    \n",
    "    dec_input = process_decoder_input(target_data,\n",
    "                                      target_vocab_to_int,\n",
    "                                      batch_size)\n",
    "    \n",
    "    training_decoder_output, inference_decoder_output = decoding_layer(dec_input,\n",
    "                                                                       enc_state,\n",
    "                                                                       target_sequence_length,\n",
    "                                                                       max_target_sentence_length,\n",
    "                                                                       rnn_size, num_layers,\n",
    "                                                                       target_vocab_to_int,\n",
    "                                                                       target_vocab_size,\n",
    "                                                                       batch_size,\n",
    "                                                                       keep_prob,\n",
    "                                                                       dec_embedding_size)\n",
    "    \n",
    "    return training_decoder_output, inference_decoder_output\n",
    "\n",
    "\n",
    "\"\"\"\n",
    "DON'T MODIFY ANYTHING IN THIS CELL THAT IS BELOW THIS LINE\n",
    "\"\"\"\n",
    "tests.test_seq2seq_model(seq2seq_model)"
   ]
  },
  {
   "cell_type": "markdown",
   "metadata": {},
   "source": [
    "## Neural Network Training\n",
    "### Hyperparameters\n",
    "Tune the following parameters:\n",
    "\n",
    "- Set `epochs` to the number of epochs.\n",
    "- Set `batch_size` to the batch size.\n",
    "- Set `rnn_size` to the size of the RNNs.\n",
    "- Set `num_layers` to the number of layers.\n",
    "- Set `encoding_embedding_size` to the size of the embedding for the encoder.\n",
    "- Set `decoding_embedding_size` to the size of the embedding for the decoder.\n",
    "- Set `learning_rate` to the learning rate.\n",
    "- Set `keep_probability` to the Dropout keep probability\n",
    "- Set `display_step` to state how many steps between each debug output statement"
   ]
  },
  {
   "cell_type": "code",
   "execution_count": 14,
   "metadata": {
    "collapsed": true
   },
   "outputs": [],
   "source": [
    "# Number of Epochs\n",
    "epochs = 6\n",
    "# Batch Size\n",
    "batch_size = 512\n",
    "# RNN Size\n",
    "rnn_size = 256\n",
    "# Number of Layers\n",
    "num_layers = 2\n",
    "# Embedding Size\n",
    "encoding_embedding_size = 128\n",
    "decoding_embedding_size = 128\n",
    "# Learning Rate\n",
    "learning_rate = 0.001\n",
    "# Dropout Keep Probability\n",
    "keep_probability = 0.8\n",
    "display_step = 5"
   ]
  },
  {
   "cell_type": "markdown",
   "metadata": {},
   "source": [
    "### Build the Graph\n",
    "Build the graph using the neural network you implemented."
   ]
  },
  {
   "cell_type": "code",
   "execution_count": 15,
   "metadata": {
    "collapsed": true
   },
   "outputs": [],
   "source": [
    "\"\"\"\n",
    "DON'T MODIFY ANYTHING IN THIS CELL\n",
    "\"\"\"\n",
    "save_path = 'checkpoints/dev'\n",
    "(source_int_text, target_int_text), (source_vocab_to_int, target_vocab_to_int), _ = helper.load_preprocess()\n",
    "max_target_sentence_length = max([len(sentence) for sentence in source_int_text])\n",
    "\n",
    "train_graph = tf.Graph()\n",
    "with train_graph.as_default():\n",
    "    input_data, targets, lr, keep_prob, target_sequence_length, max_target_sequence_length, source_sequence_length = model_inputs()\n",
    "\n",
    "    #sequence_length = tf.placeholder_with_default(max_target_sentence_length, None, name='sequence_length')\n",
    "    input_shape = tf.shape(input_data)\n",
    "\n",
    "    train_logits, inference_logits = seq2seq_model(tf.reverse(input_data, [-1]),\n",
    "                                                   targets,\n",
    "                                                   keep_prob,\n",
    "                                                   batch_size,\n",
    "                                                   source_sequence_length,\n",
    "                                                   target_sequence_length,\n",
    "                                                   max_target_sequence_length,\n",
    "                                                   len(source_vocab_to_int),\n",
    "                                                   len(target_vocab_to_int),\n",
    "                                                   encoding_embedding_size,\n",
    "                                                   decoding_embedding_size,\n",
    "                                                   rnn_size,\n",
    "                                                   num_layers,\n",
    "                                                   target_vocab_to_int)\n",
    "\n",
    "\n",
    "    training_logits = tf.identity(train_logits.rnn_output, name='logits')\n",
    "    inference_logits = tf.identity(inference_logits.sample_id, name='predictions')\n",
    "\n",
    "    masks = tf.sequence_mask(target_sequence_length, max_target_sequence_length, dtype=tf.float32, name='masks')\n",
    "\n",
    "    with tf.name_scope(\"optimization\"):\n",
    "        # Loss function\n",
    "        cost = tf.contrib.seq2seq.sequence_loss(\n",
    "            training_logits,\n",
    "            targets,\n",
    "            masks)\n",
    "\n",
    "        # Optimizer\n",
    "        optimizer = tf.train.AdamOptimizer(lr)\n",
    "\n",
    "        # Gradient Clipping\n",
    "        gradients = optimizer.compute_gradients(cost)\n",
    "        capped_gradients = [(tf.clip_by_value(grad, -1., 1.), var) for grad, var in gradients if grad is not None]\n",
    "        train_op = optimizer.apply_gradients(capped_gradients)\n"
   ]
  },
  {
   "cell_type": "markdown",
   "metadata": {},
   "source": [
    "Batch and pad the source and target sequences"
   ]
  },
  {
   "cell_type": "code",
   "execution_count": 16,
   "metadata": {
    "collapsed": true
   },
   "outputs": [],
   "source": [
    "\"\"\"\n",
    "DON'T MODIFY ANYTHING IN THIS CELL\n",
    "\"\"\"\n",
    "def pad_sentence_batch(sentence_batch, pad_int):\n",
    "    \"\"\"Pad sentences with <PAD> so that each sentence of a batch has the same length\"\"\"\n",
    "    max_sentence = max([len(sentence) for sentence in sentence_batch])\n",
    "    return [sentence + [pad_int] * (max_sentence - len(sentence)) for sentence in sentence_batch]\n",
    "\n",
    "\n",
    "def get_batches(sources, targets, batch_size, source_pad_int, target_pad_int):\n",
    "    \"\"\"Batch targets, sources, and the lengths of their sentences together\"\"\"\n",
    "    for batch_i in range(0, len(sources)//batch_size):\n",
    "        start_i = batch_i * batch_size\n",
    "\n",
    "        # Slice the right amount for the batch\n",
    "        sources_batch = sources[start_i:start_i + batch_size]\n",
    "        targets_batch = targets[start_i:start_i + batch_size]\n",
    "\n",
    "        # Pad\n",
    "        pad_sources_batch = np.array(pad_sentence_batch(sources_batch, source_pad_int))\n",
    "        pad_targets_batch = np.array(pad_sentence_batch(targets_batch, target_pad_int))\n",
    "\n",
    "        # Need the lengths for the _lengths parameters\n",
    "        pad_targets_lengths = []\n",
    "        for target in pad_targets_batch:\n",
    "            pad_targets_lengths.append(len(target))\n",
    "\n",
    "        pad_source_lengths = []\n",
    "        for source in pad_sources_batch:\n",
    "            pad_source_lengths.append(len(source))\n",
    "\n",
    "        yield pad_sources_batch, pad_targets_batch, pad_source_lengths, pad_targets_lengths\n"
   ]
  },
  {
   "cell_type": "markdown",
   "metadata": {},
   "source": [
    "### Train\n",
    "Train the neural network on the preprocessed data. If you have a hard time getting a good loss, check the forms to see if anyone is having the same problem."
   ]
  },
  {
   "cell_type": "code",
   "execution_count": 17,
   "metadata": {
    "scrolled": true
   },
   "outputs": [
    {
     "name": "stdout",
     "output_type": "stream",
     "text": [
      "Epoch   0 Batch    5/269 - Train Accuracy: 0.2693, Validation Accuracy: 0.3422, Loss: 4.0363\n",
      "Epoch   0 Batch   10/269 - Train Accuracy: 0.3213, Validation Accuracy: 0.3866, Loss: 3.4384\n",
      "Epoch   0 Batch   15/269 - Train Accuracy: 0.3816, Validation Accuracy: 0.4175, Loss: 3.0124\n",
      "Epoch   0 Batch   20/269 - Train Accuracy: 0.3781, Validation Accuracy: 0.4327, Loss: 2.9016\n",
      "Epoch   0 Batch   25/269 - Train Accuracy: 0.3906, Validation Accuracy: 0.4465, Loss: 2.7902\n",
      "Epoch   0 Batch   30/269 - Train Accuracy: 0.3961, Validation Accuracy: 0.4258, Loss: 2.5662\n",
      "Epoch   0 Batch   35/269 - Train Accuracy: 0.4361, Validation Accuracy: 0.4580, Loss: 2.4280\n",
      "Epoch   0 Batch   40/269 - Train Accuracy: 0.4260, Validation Accuracy: 0.4793, Loss: 2.4924\n",
      "Epoch   0 Batch   45/269 - Train Accuracy: 0.4229, Validation Accuracy: 0.4782, Loss: 2.3827\n",
      "Epoch   0 Batch   50/269 - Train Accuracy: 0.4344, Validation Accuracy: 0.4871, Loss: 2.3227\n",
      "Epoch   0 Batch   55/269 - Train Accuracy: 0.4654, Validation Accuracy: 0.4871, Loss: 2.1637\n",
      "Epoch   0 Batch   60/269 - Train Accuracy: 0.4763, Validation Accuracy: 0.4971, Loss: 2.0180\n",
      "Epoch   0 Batch   65/269 - Train Accuracy: 0.4759, Validation Accuracy: 0.4993, Loss: 1.9800\n",
      "Epoch   0 Batch   70/269 - Train Accuracy: 0.5048, Validation Accuracy: 0.5131, Loss: 1.9111\n",
      "Epoch   0 Batch   75/269 - Train Accuracy: 0.4923, Validation Accuracy: 0.5218, Loss: 1.8248\n",
      "Epoch   0 Batch   80/269 - Train Accuracy: 0.5094, Validation Accuracy: 0.5217, Loss: 1.7561\n",
      "Epoch   0 Batch   85/269 - Train Accuracy: 0.4867, Validation Accuracy: 0.5170, Loss: 1.7588\n",
      "Epoch   0 Batch   90/269 - Train Accuracy: 0.4460, Validation Accuracy: 0.5131, Loss: 1.7689\n",
      "Epoch   0 Batch   95/269 - Train Accuracy: 0.4745, Validation Accuracy: 0.4982, Loss: 1.6113\n",
      "Epoch   0 Batch  100/269 - Train Accuracy: 0.5193, Validation Accuracy: 0.5279, Loss: 1.5199\n",
      "Epoch   0 Batch  105/269 - Train Accuracy: 0.4695, Validation Accuracy: 0.5024, Loss: 1.5243\n",
      "Epoch   0 Batch  110/269 - Train Accuracy: 0.5041, Validation Accuracy: 0.5311, Loss: 1.4724\n",
      "Epoch   0 Batch  115/269 - Train Accuracy: 0.4211, Validation Accuracy: 0.4846, Loss: 1.4798\n",
      "Epoch   0 Batch  120/269 - Train Accuracy: 0.4841, Validation Accuracy: 0.5230, Loss: 1.4599\n",
      "Epoch   0 Batch  125/269 - Train Accuracy: 0.4374, Validation Accuracy: 0.4767, Loss: 1.3438\n",
      "Epoch   0 Batch  130/269 - Train Accuracy: 0.4681, Validation Accuracy: 0.5145, Loss: 1.4296\n",
      "Epoch   0 Batch  135/269 - Train Accuracy: 0.4257, Validation Accuracy: 0.4959, Loss: 1.3982\n",
      "Epoch   0 Batch  140/269 - Train Accuracy: 0.5032, Validation Accuracy: 0.5242, Loss: 1.2843\n",
      "Epoch   0 Batch  145/269 - Train Accuracy: 0.4847, Validation Accuracy: 0.5190, Loss: 1.2524\n",
      "Epoch   0 Batch  150/269 - Train Accuracy: 0.5070, Validation Accuracy: 0.5324, Loss: 1.2364\n",
      "Epoch   0 Batch  155/269 - Train Accuracy: 0.5230, Validation Accuracy: 0.5154, Loss: 1.1355\n",
      "Epoch   0 Batch  160/269 - Train Accuracy: 0.4986, Validation Accuracy: 0.5169, Loss: 1.1797\n",
      "Epoch   0 Batch  165/269 - Train Accuracy: 0.4658, Validation Accuracy: 0.5175, Loss: 1.1907\n",
      "Epoch   0 Batch  170/269 - Train Accuracy: 0.5304, Validation Accuracy: 0.5432, Loss: 1.1219\n",
      "Epoch   0 Batch  175/269 - Train Accuracy: 0.5222, Validation Accuracy: 0.5457, Loss: 1.1169\n",
      "Epoch   0 Batch  180/269 - Train Accuracy: 0.4857, Validation Accuracy: 0.5099, Loss: 1.1180\n",
      "Epoch   0 Batch  185/269 - Train Accuracy: 0.5009, Validation Accuracy: 0.5220, Loss: 1.0724\n",
      "Epoch   0 Batch  190/269 - Train Accuracy: 0.5298, Validation Accuracy: 0.5431, Loss: 1.0405\n",
      "Epoch   0 Batch  195/269 - Train Accuracy: 0.4966, Validation Accuracy: 0.5200, Loss: 1.0367\n",
      "Epoch   0 Batch  200/269 - Train Accuracy: 0.5193, Validation Accuracy: 0.5477, Loss: 1.0338\n",
      "Epoch   0 Batch  205/269 - Train Accuracy: 0.5193, Validation Accuracy: 0.5526, Loss: 0.9644\n",
      "Epoch   0 Batch  210/269 - Train Accuracy: 0.5520, Validation Accuracy: 0.5630, Loss: 0.9443\n",
      "Epoch   0 Batch  215/269 - Train Accuracy: 0.5882, Validation Accuracy: 0.5717, Loss: 0.8784\n",
      "Epoch   0 Batch  220/269 - Train Accuracy: 0.5735, Validation Accuracy: 0.5835, Loss: 0.8696\n",
      "Epoch   0 Batch  225/269 - Train Accuracy: 0.5438, Validation Accuracy: 0.5729, Loss: 0.9164\n",
      "Epoch   0 Batch  230/269 - Train Accuracy: 0.5598, Validation Accuracy: 0.5803, Loss: 0.8776\n",
      "Epoch   0 Batch  235/269 - Train Accuracy: 0.5751, Validation Accuracy: 0.5821, Loss: 0.8529\n",
      "Epoch   0 Batch  240/269 - Train Accuracy: 0.5897, Validation Accuracy: 0.5691, Loss: 0.7742\n",
      "Epoch   0 Batch  245/269 - Train Accuracy: 0.5610, Validation Accuracy: 0.5872, Loss: 0.8738\n",
      "Epoch   0 Batch  250/269 - Train Accuracy: 0.5454, Validation Accuracy: 0.5746, Loss: 0.8345\n",
      "Epoch   0 Batch  255/269 - Train Accuracy: 0.5984, Validation Accuracy: 0.5890, Loss: 0.7725\n",
      "Epoch   0 Batch  260/269 - Train Accuracy: 0.5687, Validation Accuracy: 0.5857, Loss: 0.8290\n",
      "Epoch   0 Batch  265/269 - Train Accuracy: 0.5615, Validation Accuracy: 0.5882, Loss: 0.8009\n",
      "Epoch   1 Batch    5/269 - Train Accuracy: 0.5520, Validation Accuracy: 0.5848, Loss: 0.7841\n",
      "Epoch   1 Batch   10/269 - Train Accuracy: 0.5908, Validation Accuracy: 0.6073, Loss: 0.7579\n",
      "Epoch   1 Batch   15/269 - Train Accuracy: 0.5847, Validation Accuracy: 0.5981, Loss: 0.7222\n",
      "Epoch   1 Batch   20/269 - Train Accuracy: 0.5905, Validation Accuracy: 0.6139, Loss: 0.7472\n",
      "Epoch   1 Batch   25/269 - Train Accuracy: 0.5728, Validation Accuracy: 0.6089, Loss: 0.7549\n",
      "Epoch   1 Batch   30/269 - Train Accuracy: 0.6105, Validation Accuracy: 0.6184, Loss: 0.6918\n",
      "Epoch   1 Batch   35/269 - Train Accuracy: 0.6056, Validation Accuracy: 0.5990, Loss: 0.6967\n",
      "Epoch   1 Batch   40/269 - Train Accuracy: 0.6076, Validation Accuracy: 0.6241, Loss: 0.7084\n",
      "Epoch   1 Batch   45/269 - Train Accuracy: 0.6024, Validation Accuracy: 0.6167, Loss: 0.7053\n",
      "Epoch   1 Batch   50/269 - Train Accuracy: 0.6115, Validation Accuracy: 0.6211, Loss: 0.6988\n",
      "Epoch   1 Batch   55/269 - Train Accuracy: 0.6383, Validation Accuracy: 0.6206, Loss: 0.6487\n",
      "Epoch   1 Batch   60/269 - Train Accuracy: 0.6447, Validation Accuracy: 0.6318, Loss: 0.6192\n",
      "Epoch   1 Batch   65/269 - Train Accuracy: 0.6312, Validation Accuracy: 0.6314, Loss: 0.6354\n",
      "Epoch   1 Batch   70/269 - Train Accuracy: 0.6441, Validation Accuracy: 0.6262, Loss: 0.6287\n",
      "Epoch   1 Batch   75/269 - Train Accuracy: 0.6474, Validation Accuracy: 0.6414, Loss: 0.6072\n",
      "Epoch   1 Batch   80/269 - Train Accuracy: 0.6491, Validation Accuracy: 0.6341, Loss: 0.6020\n",
      "Epoch   1 Batch   85/269 - Train Accuracy: 0.6462, Validation Accuracy: 0.6520, Loss: 0.5978\n",
      "Epoch   1 Batch   90/269 - Train Accuracy: 0.6302, Validation Accuracy: 0.6608, Loss: 0.6211\n",
      "Epoch   1 Batch   95/269 - Train Accuracy: 0.6571, Validation Accuracy: 0.6601, Loss: 0.5765\n",
      "Epoch   1 Batch  100/269 - Train Accuracy: 0.6759, Validation Accuracy: 0.6679, Loss: 0.5657\n",
      "Epoch   1 Batch  105/269 - Train Accuracy: 0.6519, Validation Accuracy: 0.6534, Loss: 0.5736\n",
      "Epoch   1 Batch  110/269 - Train Accuracy: 0.6662, Validation Accuracy: 0.6650, Loss: 0.5456\n",
      "Epoch   1 Batch  115/269 - Train Accuracy: 0.6584, Validation Accuracy: 0.6582, Loss: 0.5586\n",
      "Epoch   1 Batch  120/269 - Train Accuracy: 0.6702, Validation Accuracy: 0.6721, Loss: 0.5506\n",
      "Epoch   1 Batch  125/269 - Train Accuracy: 0.6835, Validation Accuracy: 0.6671, Loss: 0.5211\n",
      "Epoch   1 Batch  130/269 - Train Accuracy: 0.6561, Validation Accuracy: 0.6711, Loss: 0.5390\n",
      "Epoch   1 Batch  135/269 - Train Accuracy: 0.6553, Validation Accuracy: 0.6713, Loss: 0.5498\n",
      "Epoch   1 Batch  140/269 - Train Accuracy: 0.6894, Validation Accuracy: 0.6828, Loss: 0.5102\n",
      "Epoch   1 Batch  145/269 - Train Accuracy: 0.6928, Validation Accuracy: 0.6955, Loss: 0.4855\n",
      "Epoch   1 Batch  150/269 - Train Accuracy: 0.6896, Validation Accuracy: 0.6903, Loss: 0.4909\n",
      "Epoch   1 Batch  155/269 - Train Accuracy: 0.7049, Validation Accuracy: 0.6864, Loss: 0.4553\n",
      "Epoch   1 Batch  160/269 - Train Accuracy: 0.7001, Validation Accuracy: 0.7009, Loss: 0.4822\n",
      "Epoch   1 Batch  165/269 - Train Accuracy: 0.6845, Validation Accuracy: 0.7000, Loss: 0.4769\n",
      "Epoch   1 Batch  170/269 - Train Accuracy: 0.6844, Validation Accuracy: 0.7005, Loss: 0.4581\n",
      "Epoch   1 Batch  175/269 - Train Accuracy: 0.7055, Validation Accuracy: 0.7177, Loss: 0.4651\n",
      "Epoch   1 Batch  180/269 - Train Accuracy: 0.7178, Validation Accuracy: 0.7175, Loss: 0.4377\n"
     ]
    },
    {
     "name": "stdout",
     "output_type": "stream",
     "text": [
      "Epoch   1 Batch  185/269 - Train Accuracy: 0.7498, Validation Accuracy: 0.7301, Loss: 0.4299\n",
      "Epoch   1 Batch  190/269 - Train Accuracy: 0.7226, Validation Accuracy: 0.7296, Loss: 0.4173\n",
      "Epoch   1 Batch  195/269 - Train Accuracy: 0.7117, Validation Accuracy: 0.7360, Loss: 0.4218\n",
      "Epoch   1 Batch  200/269 - Train Accuracy: 0.7164, Validation Accuracy: 0.7297, Loss: 0.4251\n",
      "Epoch   1 Batch  205/269 - Train Accuracy: 0.7460, Validation Accuracy: 0.7348, Loss: 0.4035\n",
      "Epoch   1 Batch  210/269 - Train Accuracy: 0.7492, Validation Accuracy: 0.7378, Loss: 0.3927\n",
      "Epoch   1 Batch  215/269 - Train Accuracy: 0.7563, Validation Accuracy: 0.7449, Loss: 0.3718\n",
      "Epoch   1 Batch  220/269 - Train Accuracy: 0.7681, Validation Accuracy: 0.7521, Loss: 0.3612\n",
      "Epoch   1 Batch  225/269 - Train Accuracy: 0.7307, Validation Accuracy: 0.7375, Loss: 0.3847\n",
      "Epoch   1 Batch  230/269 - Train Accuracy: 0.7669, Validation Accuracy: 0.7631, Loss: 0.3736\n",
      "Epoch   1 Batch  235/269 - Train Accuracy: 0.7525, Validation Accuracy: 0.7439, Loss: 0.3676\n",
      "Epoch   1 Batch  240/269 - Train Accuracy: 0.7863, Validation Accuracy: 0.7545, Loss: 0.3328\n",
      "Epoch   1 Batch  245/269 - Train Accuracy: 0.7349, Validation Accuracy: 0.7704, Loss: 0.3771\n",
      "Epoch   1 Batch  250/269 - Train Accuracy: 0.7652, Validation Accuracy: 0.7734, Loss: 0.3585\n",
      "Epoch   1 Batch  255/269 - Train Accuracy: 0.7686, Validation Accuracy: 0.7782, Loss: 0.3373\n",
      "Epoch   1 Batch  260/269 - Train Accuracy: 0.7314, Validation Accuracy: 0.7760, Loss: 0.3526\n",
      "Epoch   1 Batch  265/269 - Train Accuracy: 0.7773, Validation Accuracy: 0.7812, Loss: 0.3371\n",
      "Epoch   2 Batch    5/269 - Train Accuracy: 0.7663, Validation Accuracy: 0.7931, Loss: 0.3206\n",
      "Epoch   2 Batch   10/269 - Train Accuracy: 0.7896, Validation Accuracy: 0.7950, Loss: 0.3108\n",
      "Epoch   2 Batch   15/269 - Train Accuracy: 0.7871, Validation Accuracy: 0.8028, Loss: 0.2892\n",
      "Epoch   2 Batch   20/269 - Train Accuracy: 0.7898, Validation Accuracy: 0.7981, Loss: 0.2949\n",
      "Epoch   2 Batch   25/269 - Train Accuracy: 0.7930, Validation Accuracy: 0.8152, Loss: 0.3158\n",
      "Epoch   2 Batch   30/269 - Train Accuracy: 0.8168, Validation Accuracy: 0.8042, Loss: 0.2808\n",
      "Epoch   2 Batch   35/269 - Train Accuracy: 0.7987, Validation Accuracy: 0.7989, Loss: 0.2863\n",
      "Epoch   2 Batch   40/269 - Train Accuracy: 0.7949, Validation Accuracy: 0.8274, Loss: 0.2856\n",
      "Epoch   2 Batch   45/269 - Train Accuracy: 0.7895, Validation Accuracy: 0.8153, Loss: 0.2730\n",
      "Epoch   2 Batch   50/269 - Train Accuracy: 0.7954, Validation Accuracy: 0.8240, Loss: 0.2724\n",
      "Epoch   2 Batch   55/269 - Train Accuracy: 0.8240, Validation Accuracy: 0.8290, Loss: 0.2505\n",
      "Epoch   2 Batch   60/269 - Train Accuracy: 0.8295, Validation Accuracy: 0.8267, Loss: 0.2308\n",
      "Epoch   2 Batch   65/269 - Train Accuracy: 0.8233, Validation Accuracy: 0.8356, Loss: 0.2366\n",
      "Epoch   2 Batch   70/269 - Train Accuracy: 0.8304, Validation Accuracy: 0.8319, Loss: 0.2418\n",
      "Epoch   2 Batch   75/269 - Train Accuracy: 0.8424, Validation Accuracy: 0.8501, Loss: 0.2269\n",
      "Epoch   2 Batch   80/269 - Train Accuracy: 0.8471, Validation Accuracy: 0.8438, Loss: 0.2143\n",
      "Epoch   2 Batch   85/269 - Train Accuracy: 0.8592, Validation Accuracy: 0.8553, Loss: 0.2098\n",
      "Epoch   2 Batch   90/269 - Train Accuracy: 0.8279, Validation Accuracy: 0.8505, Loss: 0.2215\n",
      "Epoch   2 Batch   95/269 - Train Accuracy: 0.8594, Validation Accuracy: 0.8499, Loss: 0.2029\n",
      "Epoch   2 Batch  100/269 - Train Accuracy: 0.8440, Validation Accuracy: 0.8491, Loss: 0.1994\n",
      "Epoch   2 Batch  105/269 - Train Accuracy: 0.8447, Validation Accuracy: 0.8556, Loss: 0.1972\n",
      "Epoch   2 Batch  110/269 - Train Accuracy: 0.8479, Validation Accuracy: 0.8619, Loss: 0.1869\n",
      "Epoch   2 Batch  115/269 - Train Accuracy: 0.8506, Validation Accuracy: 0.8632, Loss: 0.1861\n",
      "Epoch   2 Batch  120/269 - Train Accuracy: 0.8397, Validation Accuracy: 0.8582, Loss: 0.1885\n",
      "Epoch   2 Batch  125/269 - Train Accuracy: 0.8617, Validation Accuracy: 0.8562, Loss: 0.1715\n",
      "Epoch   2 Batch  130/269 - Train Accuracy: 0.8585, Validation Accuracy: 0.8751, Loss: 0.1823\n",
      "Epoch   2 Batch  135/269 - Train Accuracy: 0.8625, Validation Accuracy: 0.8738, Loss: 0.1835\n",
      "Epoch   2 Batch  140/269 - Train Accuracy: 0.8649, Validation Accuracy: 0.8679, Loss: 0.1733\n",
      "Epoch   2 Batch  145/269 - Train Accuracy: 0.8758, Validation Accuracy: 0.8774, Loss: 0.1598\n",
      "Epoch   2 Batch  150/269 - Train Accuracy: 0.8692, Validation Accuracy: 0.8777, Loss: 0.1601\n",
      "Epoch   2 Batch  155/269 - Train Accuracy: 0.8801, Validation Accuracy: 0.8759, Loss: 0.1483\n",
      "Epoch   2 Batch  160/269 - Train Accuracy: 0.8850, Validation Accuracy: 0.8857, Loss: 0.1538\n",
      "Epoch   2 Batch  165/269 - Train Accuracy: 0.8729, Validation Accuracy: 0.8886, Loss: 0.1454\n",
      "Epoch   2 Batch  170/269 - Train Accuracy: 0.8647, Validation Accuracy: 0.8801, Loss: 0.1473\n",
      "Epoch   2 Batch  175/269 - Train Accuracy: 0.8597, Validation Accuracy: 0.8841, Loss: 0.1585\n",
      "Epoch   2 Batch  180/269 - Train Accuracy: 0.8931, Validation Accuracy: 0.8896, Loss: 0.1363\n",
      "Epoch   2 Batch  185/269 - Train Accuracy: 0.9069, Validation Accuracy: 0.8798, Loss: 0.1329\n",
      "Epoch   2 Batch  190/269 - Train Accuracy: 0.8876, Validation Accuracy: 0.8811, Loss: 0.1257\n",
      "Epoch   2 Batch  195/269 - Train Accuracy: 0.8749, Validation Accuracy: 0.8927, Loss: 0.1339\n",
      "Epoch   2 Batch  200/269 - Train Accuracy: 0.8781, Validation Accuracy: 0.8847, Loss: 0.1288\n",
      "Epoch   2 Batch  205/269 - Train Accuracy: 0.8936, Validation Accuracy: 0.8872, Loss: 0.1248\n",
      "Epoch   2 Batch  210/269 - Train Accuracy: 0.8933, Validation Accuracy: 0.8934, Loss: 0.1180\n",
      "Epoch   2 Batch  215/269 - Train Accuracy: 0.8989, Validation Accuracy: 0.8862, Loss: 0.1148\n",
      "Epoch   2 Batch  220/269 - Train Accuracy: 0.9073, Validation Accuracy: 0.8920, Loss: 0.1163\n",
      "Epoch   2 Batch  225/269 - Train Accuracy: 0.8798, Validation Accuracy: 0.8888, Loss: 0.1149\n",
      "Epoch   2 Batch  230/269 - Train Accuracy: 0.8988, Validation Accuracy: 0.8936, Loss: 0.1150\n",
      "Epoch   2 Batch  235/269 - Train Accuracy: 0.9134, Validation Accuracy: 0.9013, Loss: 0.1056\n",
      "Epoch   2 Batch  240/269 - Train Accuracy: 0.9186, Validation Accuracy: 0.8922, Loss: 0.1028\n",
      "Epoch   2 Batch  245/269 - Train Accuracy: 0.8883, Validation Accuracy: 0.9035, Loss: 0.1132\n",
      "Epoch   2 Batch  250/269 - Train Accuracy: 0.9013, Validation Accuracy: 0.9028, Loss: 0.1051\n",
      "Epoch   2 Batch  255/269 - Train Accuracy: 0.8950, Validation Accuracy: 0.9041, Loss: 0.1048\n",
      "Epoch   2 Batch  260/269 - Train Accuracy: 0.8873, Validation Accuracy: 0.9053, Loss: 0.1122\n",
      "Epoch   2 Batch  265/269 - Train Accuracy: 0.8998, Validation Accuracy: 0.9042, Loss: 0.1018\n",
      "Epoch   3 Batch    5/269 - Train Accuracy: 0.9019, Validation Accuracy: 0.8945, Loss: 0.0998\n",
      "Epoch   3 Batch   10/269 - Train Accuracy: 0.8955, Validation Accuracy: 0.9054, Loss: 0.0897\n",
      "Epoch   3 Batch   15/269 - Train Accuracy: 0.9024, Validation Accuracy: 0.9031, Loss: 0.0851\n",
      "Epoch   3 Batch   20/269 - Train Accuracy: 0.9089, Validation Accuracy: 0.9118, Loss: 0.0889\n",
      "Epoch   3 Batch   25/269 - Train Accuracy: 0.9057, Validation Accuracy: 0.9138, Loss: 0.1018\n",
      "Epoch   3 Batch   30/269 - Train Accuracy: 0.9089, Validation Accuracy: 0.9114, Loss: 0.0896\n",
      "Epoch   3 Batch   35/269 - Train Accuracy: 0.9146, Validation Accuracy: 0.9149, Loss: 0.0970\n",
      "Epoch   3 Batch   40/269 - Train Accuracy: 0.8951, Validation Accuracy: 0.9131, Loss: 0.0978\n",
      "Epoch   3 Batch   45/269 - Train Accuracy: 0.8935, Validation Accuracy: 0.9096, Loss: 0.0930\n",
      "Epoch   3 Batch   50/269 - Train Accuracy: 0.8941, Validation Accuracy: 0.9076, Loss: 0.0959\n",
      "Epoch   3 Batch   55/269 - Train Accuracy: 0.9173, Validation Accuracy: 0.9062, Loss: 0.0849\n",
      "Epoch   3 Batch   60/269 - Train Accuracy: 0.9157, Validation Accuracy: 0.9074, Loss: 0.0785\n",
      "Epoch   3 Batch   65/269 - Train Accuracy: 0.9100, Validation Accuracy: 0.9137, Loss: 0.0812\n",
      "Epoch   3 Batch   70/269 - Train Accuracy: 0.9113, Validation Accuracy: 0.9096, Loss: 0.0872\n",
      "Epoch   3 Batch   75/269 - Train Accuracy: 0.9264, Validation Accuracy: 0.9128, Loss: 0.0836\n",
      "Epoch   3 Batch   80/269 - Train Accuracy: 0.9245, Validation Accuracy: 0.9208, Loss: 0.0783\n",
      "Epoch   3 Batch   85/269 - Train Accuracy: 0.9175, Validation Accuracy: 0.9157, Loss: 0.0789\n",
      "Epoch   3 Batch   90/269 - Train Accuracy: 0.9194, Validation Accuracy: 0.9128, Loss: 0.0818\n",
      "Epoch   3 Batch   95/269 - Train Accuracy: 0.9252, Validation Accuracy: 0.9197, Loss: 0.0741\n"
     ]
    },
    {
     "name": "stdout",
     "output_type": "stream",
     "text": [
      "Epoch   3 Batch  100/269 - Train Accuracy: 0.9174, Validation Accuracy: 0.9105, Loss: 0.0779\n",
      "Epoch   3 Batch  105/269 - Train Accuracy: 0.9098, Validation Accuracy: 0.9173, Loss: 0.0780\n",
      "Epoch   3 Batch  110/269 - Train Accuracy: 0.9125, Validation Accuracy: 0.9147, Loss: 0.0710\n",
      "Epoch   3 Batch  115/269 - Train Accuracy: 0.9037, Validation Accuracy: 0.9180, Loss: 0.0751\n",
      "Epoch   3 Batch  120/269 - Train Accuracy: 0.9229, Validation Accuracy: 0.9221, Loss: 0.0754\n",
      "Epoch   3 Batch  125/269 - Train Accuracy: 0.9223, Validation Accuracy: 0.9308, Loss: 0.0697\n",
      "Epoch   3 Batch  130/269 - Train Accuracy: 0.9334, Validation Accuracy: 0.9170, Loss: 0.0754\n",
      "Epoch   3 Batch  135/269 - Train Accuracy: 0.9205, Validation Accuracy: 0.9292, Loss: 0.0772\n",
      "Epoch   3 Batch  140/269 - Train Accuracy: 0.9159, Validation Accuracy: 0.9235, Loss: 0.0773\n",
      "Epoch   3 Batch  145/269 - Train Accuracy: 0.9192, Validation Accuracy: 0.9285, Loss: 0.0693\n",
      "Epoch   3 Batch  150/269 - Train Accuracy: 0.9224, Validation Accuracy: 0.9261, Loss: 0.0709\n",
      "Epoch   3 Batch  155/269 - Train Accuracy: 0.9159, Validation Accuracy: 0.9200, Loss: 0.0699\n",
      "Epoch   3 Batch  160/269 - Train Accuracy: 0.9095, Validation Accuracy: 0.9309, Loss: 0.0712\n",
      "Epoch   3 Batch  165/269 - Train Accuracy: 0.9161, Validation Accuracy: 0.9334, Loss: 0.0649\n",
      "Epoch   3 Batch  170/269 - Train Accuracy: 0.9109, Validation Accuracy: 0.9286, Loss: 0.0630\n",
      "Epoch   3 Batch  175/269 - Train Accuracy: 0.9017, Validation Accuracy: 0.9214, Loss: 0.0780\n",
      "Epoch   3 Batch  180/269 - Train Accuracy: 0.9300, Validation Accuracy: 0.9338, Loss: 0.0619\n",
      "Epoch   3 Batch  185/269 - Train Accuracy: 0.9365, Validation Accuracy: 0.9314, Loss: 0.0648\n",
      "Epoch   3 Batch  190/269 - Train Accuracy: 0.9182, Validation Accuracy: 0.9250, Loss: 0.0619\n",
      "Epoch   3 Batch  195/269 - Train Accuracy: 0.9244, Validation Accuracy: 0.9299, Loss: 0.0648\n",
      "Epoch   3 Batch  200/269 - Train Accuracy: 0.9216, Validation Accuracy: 0.9228, Loss: 0.0620\n",
      "Epoch   3 Batch  205/269 - Train Accuracy: 0.9275, Validation Accuracy: 0.9291, Loss: 0.0613\n",
      "Epoch   3 Batch  210/269 - Train Accuracy: 0.9264, Validation Accuracy: 0.9289, Loss: 0.0573\n",
      "Epoch   3 Batch  215/269 - Train Accuracy: 0.9357, Validation Accuracy: 0.9244, Loss: 0.0586\n",
      "Epoch   3 Batch  220/269 - Train Accuracy: 0.9237, Validation Accuracy: 0.9265, Loss: 0.0594\n",
      "Epoch   3 Batch  225/269 - Train Accuracy: 0.9211, Validation Accuracy: 0.9230, Loss: 0.0569\n",
      "Epoch   3 Batch  230/269 - Train Accuracy: 0.9305, Validation Accuracy: 0.9331, Loss: 0.0604\n",
      "Epoch   3 Batch  235/269 - Train Accuracy: 0.9470, Validation Accuracy: 0.9293, Loss: 0.0521\n",
      "Epoch   3 Batch  240/269 - Train Accuracy: 0.9355, Validation Accuracy: 0.9135, Loss: 0.0550\n",
      "Epoch   3 Batch  245/269 - Train Accuracy: 0.9160, Validation Accuracy: 0.9266, Loss: 0.0594\n",
      "Epoch   3 Batch  250/269 - Train Accuracy: 0.9346, Validation Accuracy: 0.9389, Loss: 0.0548\n",
      "Epoch   3 Batch  255/269 - Train Accuracy: 0.9189, Validation Accuracy: 0.9356, Loss: 0.0581\n",
      "Epoch   3 Batch  260/269 - Train Accuracy: 0.9257, Validation Accuracy: 0.9329, Loss: 0.0615\n",
      "Epoch   3 Batch  265/269 - Train Accuracy: 0.9245, Validation Accuracy: 0.9349, Loss: 0.0566\n",
      "Epoch   4 Batch    5/269 - Train Accuracy: 0.9356, Validation Accuracy: 0.9205, Loss: 0.0552\n",
      "Epoch   4 Batch   10/269 - Train Accuracy: 0.9302, Validation Accuracy: 0.9252, Loss: 0.0486\n",
      "Epoch   4 Batch   15/269 - Train Accuracy: 0.9329, Validation Accuracy: 0.9283, Loss: 0.0465\n",
      "Epoch   4 Batch   20/269 - Train Accuracy: 0.9415, Validation Accuracy: 0.9296, Loss: 0.0509\n",
      "Epoch   4 Batch   25/269 - Train Accuracy: 0.9248, Validation Accuracy: 0.9143, Loss: 0.0590\n",
      "Epoch   4 Batch   30/269 - Train Accuracy: 0.9378, Validation Accuracy: 0.9370, Loss: 0.0526\n",
      "Epoch   4 Batch   35/269 - Train Accuracy: 0.9368, Validation Accuracy: 0.9371, Loss: 0.0591\n",
      "Epoch   4 Batch   40/269 - Train Accuracy: 0.9195, Validation Accuracy: 0.9434, Loss: 0.0578\n",
      "Epoch   4 Batch   45/269 - Train Accuracy: 0.9422, Validation Accuracy: 0.9466, Loss: 0.0533\n",
      "Epoch   4 Batch   50/269 - Train Accuracy: 0.9285, Validation Accuracy: 0.9365, Loss: 0.0562\n",
      "Epoch   4 Batch   55/269 - Train Accuracy: 0.9380, Validation Accuracy: 0.9431, Loss: 0.0518\n",
      "Epoch   4 Batch   60/269 - Train Accuracy: 0.9332, Validation Accuracy: 0.9417, Loss: 0.0493\n",
      "Epoch   4 Batch   65/269 - Train Accuracy: 0.9439, Validation Accuracy: 0.9390, Loss: 0.0474\n",
      "Epoch   4 Batch   70/269 - Train Accuracy: 0.9328, Validation Accuracy: 0.9351, Loss: 0.0529\n",
      "Epoch   4 Batch   75/269 - Train Accuracy: 0.9442, Validation Accuracy: 0.9395, Loss: 0.0506\n",
      "Epoch   4 Batch   80/269 - Train Accuracy: 0.9414, Validation Accuracy: 0.9346, Loss: 0.0476\n",
      "Epoch   4 Batch   85/269 - Train Accuracy: 0.9360, Validation Accuracy: 0.9255, Loss: 0.0489\n",
      "Epoch   4 Batch   90/269 - Train Accuracy: 0.9319, Validation Accuracy: 0.9344, Loss: 0.0515\n",
      "Epoch   4 Batch   95/269 - Train Accuracy: 0.9377, Validation Accuracy: 0.9506, Loss: 0.0453\n",
      "Epoch   4 Batch  100/269 - Train Accuracy: 0.9373, Validation Accuracy: 0.9355, Loss: 0.0496\n",
      "Epoch   4 Batch  105/269 - Train Accuracy: 0.9330, Validation Accuracy: 0.9452, Loss: 0.0514\n",
      "Epoch   4 Batch  110/269 - Train Accuracy: 0.9328, Validation Accuracy: 0.9330, Loss: 0.0457\n",
      "Epoch   4 Batch  115/269 - Train Accuracy: 0.9281, Validation Accuracy: 0.9493, Loss: 0.0488\n",
      "Epoch   4 Batch  120/269 - Train Accuracy: 0.9371, Validation Accuracy: 0.9464, Loss: 0.0505\n",
      "Epoch   4 Batch  125/269 - Train Accuracy: 0.9379, Validation Accuracy: 0.9490, Loss: 0.0432\n",
      "Epoch   4 Batch  130/269 - Train Accuracy: 0.9529, Validation Accuracy: 0.9366, Loss: 0.0480\n",
      "Epoch   4 Batch  135/269 - Train Accuracy: 0.9402, Validation Accuracy: 0.9421, Loss: 0.0465\n",
      "Epoch   4 Batch  140/269 - Train Accuracy: 0.9383, Validation Accuracy: 0.9337, Loss: 0.0500\n",
      "Epoch   4 Batch  145/269 - Train Accuracy: 0.9390, Validation Accuracy: 0.9409, Loss: 0.0452\n",
      "Epoch   4 Batch  150/269 - Train Accuracy: 0.9368, Validation Accuracy: 0.9294, Loss: 0.0443\n",
      "Epoch   4 Batch  155/269 - Train Accuracy: 0.9194, Validation Accuracy: 0.9374, Loss: 0.0452\n",
      "Epoch   4 Batch  160/269 - Train Accuracy: 0.8810, Validation Accuracy: 0.8935, Loss: 0.1497\n",
      "Epoch   4 Batch  165/269 - Train Accuracy: 0.8875, Validation Accuracy: 0.8831, Loss: 0.0940\n",
      "Epoch   4 Batch  170/269 - Train Accuracy: 0.9005, Validation Accuracy: 0.9075, Loss: 0.0969\n",
      "Epoch   4 Batch  175/269 - Train Accuracy: 0.9008, Validation Accuracy: 0.9087, Loss: 0.0858\n",
      "Epoch   4 Batch  180/269 - Train Accuracy: 0.9190, Validation Accuracy: 0.9252, Loss: 0.0635\n",
      "Epoch   4 Batch  185/269 - Train Accuracy: 0.9259, Validation Accuracy: 0.9316, Loss: 0.0587\n",
      "Epoch   4 Batch  190/269 - Train Accuracy: 0.9340, Validation Accuracy: 0.9339, Loss: 0.0505\n",
      "Epoch   4 Batch  195/269 - Train Accuracy: 0.9241, Validation Accuracy: 0.9352, Loss: 0.0511\n",
      "Epoch   4 Batch  200/269 - Train Accuracy: 0.9409, Validation Accuracy: 0.9298, Loss: 0.0474\n",
      "Epoch   4 Batch  205/269 - Train Accuracy: 0.9401, Validation Accuracy: 0.9388, Loss: 0.0474\n",
      "Epoch   4 Batch  210/269 - Train Accuracy: 0.9350, Validation Accuracy: 0.9408, Loss: 0.0419\n",
      "Epoch   4 Batch  215/269 - Train Accuracy: 0.9460, Validation Accuracy: 0.9382, Loss: 0.0431\n",
      "Epoch   4 Batch  220/269 - Train Accuracy: 0.9350, Validation Accuracy: 0.9414, Loss: 0.0439\n",
      "Epoch   4 Batch  225/269 - Train Accuracy: 0.9347, Validation Accuracy: 0.9482, Loss: 0.0395\n",
      "Epoch   4 Batch  230/269 - Train Accuracy: 0.9381, Validation Accuracy: 0.9454, Loss: 0.0427\n",
      "Epoch   4 Batch  235/269 - Train Accuracy: 0.9674, Validation Accuracy: 0.9474, Loss: 0.0342\n",
      "Epoch   4 Batch  240/269 - Train Accuracy: 0.9469, Validation Accuracy: 0.9407, Loss: 0.0390\n",
      "Epoch   4 Batch  245/269 - Train Accuracy: 0.9297, Validation Accuracy: 0.9484, Loss: 0.0412\n",
      "Epoch   4 Batch  250/269 - Train Accuracy: 0.9444, Validation Accuracy: 0.9556, Loss: 0.0395\n",
      "Epoch   4 Batch  255/269 - Train Accuracy: 0.9455, Validation Accuracy: 0.9457, Loss: 0.0402\n",
      "Epoch   4 Batch  260/269 - Train Accuracy: 0.9308, Validation Accuracy: 0.9461, Loss: 0.0436\n",
      "Epoch   4 Batch  265/269 - Train Accuracy: 0.9469, Validation Accuracy: 0.9461, Loss: 0.0408\n",
      "Epoch   5 Batch    5/269 - Train Accuracy: 0.9489, Validation Accuracy: 0.9404, Loss: 0.0379\n",
      "Epoch   5 Batch   10/269 - Train Accuracy: 0.9487, Validation Accuracy: 0.9451, Loss: 0.0343\n"
     ]
    },
    {
     "name": "stdout",
     "output_type": "stream",
     "text": [
      "Epoch   5 Batch   15/269 - Train Accuracy: 0.9488, Validation Accuracy: 0.9459, Loss: 0.0317\n",
      "Epoch   5 Batch   20/269 - Train Accuracy: 0.9564, Validation Accuracy: 0.9498, Loss: 0.0354\n",
      "Epoch   5 Batch   25/269 - Train Accuracy: 0.9504, Validation Accuracy: 0.9395, Loss: 0.0395\n",
      "Epoch   5 Batch   30/269 - Train Accuracy: 0.9486, Validation Accuracy: 0.9513, Loss: 0.0391\n",
      "Epoch   5 Batch   35/269 - Train Accuracy: 0.9373, Validation Accuracy: 0.9546, Loss: 0.0421\n",
      "Epoch   5 Batch   40/269 - Train Accuracy: 0.9393, Validation Accuracy: 0.9569, Loss: 0.0410\n",
      "Epoch   5 Batch   45/269 - Train Accuracy: 0.9475, Validation Accuracy: 0.9512, Loss: 0.0386\n",
      "Epoch   5 Batch   50/269 - Train Accuracy: 0.9366, Validation Accuracy: 0.9485, Loss: 0.0434\n",
      "Epoch   5 Batch   55/269 - Train Accuracy: 0.9415, Validation Accuracy: 0.9479, Loss: 0.0361\n",
      "Epoch   5 Batch   60/269 - Train Accuracy: 0.9474, Validation Accuracy: 0.9551, Loss: 0.0347\n",
      "Epoch   5 Batch   65/269 - Train Accuracy: 0.9576, Validation Accuracy: 0.9559, Loss: 0.0336\n",
      "Epoch   5 Batch   70/269 - Train Accuracy: 0.9441, Validation Accuracy: 0.9500, Loss: 0.0379\n",
      "Epoch   5 Batch   75/269 - Train Accuracy: 0.9541, Validation Accuracy: 0.9571, Loss: 0.0359\n",
      "Epoch   5 Batch   80/269 - Train Accuracy: 0.9478, Validation Accuracy: 0.9462, Loss: 0.0340\n",
      "Epoch   5 Batch   85/269 - Train Accuracy: 0.9530, Validation Accuracy: 0.9608, Loss: 0.0349\n",
      "Epoch   5 Batch   90/269 - Train Accuracy: 0.9518, Validation Accuracy: 0.9491, Loss: 0.0368\n",
      "Epoch   5 Batch   95/269 - Train Accuracy: 0.9489, Validation Accuracy: 0.9534, Loss: 0.0330\n",
      "Epoch   5 Batch  100/269 - Train Accuracy: 0.9477, Validation Accuracy: 0.9547, Loss: 0.0363\n",
      "Epoch   5 Batch  105/269 - Train Accuracy: 0.9448, Validation Accuracy: 0.9538, Loss: 0.0362\n",
      "Epoch   5 Batch  110/269 - Train Accuracy: 0.9514, Validation Accuracy: 0.9523, Loss: 0.0310\n",
      "Epoch   5 Batch  115/269 - Train Accuracy: 0.9472, Validation Accuracy: 0.9589, Loss: 0.0336\n",
      "Epoch   5 Batch  120/269 - Train Accuracy: 0.9451, Validation Accuracy: 0.9556, Loss: 0.0353\n",
      "Epoch   5 Batch  125/269 - Train Accuracy: 0.9546, Validation Accuracy: 0.9603, Loss: 0.0309\n",
      "Epoch   5 Batch  130/269 - Train Accuracy: 0.9550, Validation Accuracy: 0.9418, Loss: 0.0345\n",
      "Epoch   5 Batch  135/269 - Train Accuracy: 0.9609, Validation Accuracy: 0.9540, Loss: 0.0326\n",
      "Epoch   5 Batch  140/269 - Train Accuracy: 0.9548, Validation Accuracy: 0.9600, Loss: 0.0357\n",
      "Epoch   5 Batch  145/269 - Train Accuracy: 0.9563, Validation Accuracy: 0.9603, Loss: 0.0316\n",
      "Epoch   5 Batch  150/269 - Train Accuracy: 0.9495, Validation Accuracy: 0.9561, Loss: 0.0333\n",
      "Epoch   5 Batch  155/269 - Train Accuracy: 0.9416, Validation Accuracy: 0.9590, Loss: 0.0332\n",
      "Epoch   5 Batch  160/269 - Train Accuracy: 0.9435, Validation Accuracy: 0.9585, Loss: 0.0332\n",
      "Epoch   5 Batch  165/269 - Train Accuracy: 0.9513, Validation Accuracy: 0.9568, Loss: 0.0309\n",
      "Epoch   5 Batch  170/269 - Train Accuracy: 0.9505, Validation Accuracy: 0.9630, Loss: 0.0289\n",
      "Epoch   5 Batch  175/269 - Train Accuracy: 0.9487, Validation Accuracy: 0.9573, Loss: 0.0431\n",
      "Epoch   5 Batch  180/269 - Train Accuracy: 0.9604, Validation Accuracy: 0.9618, Loss: 0.0304\n",
      "Epoch   5 Batch  185/269 - Train Accuracy: 0.9582, Validation Accuracy: 0.9614, Loss: 0.0324\n",
      "Epoch   5 Batch  190/269 - Train Accuracy: 0.9550, Validation Accuracy: 0.9608, Loss: 0.0313\n",
      "Epoch   5 Batch  195/269 - Train Accuracy: 0.9534, Validation Accuracy: 0.9625, Loss: 0.0300\n",
      "Epoch   5 Batch  200/269 - Train Accuracy: 0.9598, Validation Accuracy: 0.9521, Loss: 0.0301\n",
      "Epoch   5 Batch  205/269 - Train Accuracy: 0.9597, Validation Accuracy: 0.9600, Loss: 0.0316\n",
      "Epoch   5 Batch  210/269 - Train Accuracy: 0.9525, Validation Accuracy: 0.9615, Loss: 0.0287\n",
      "Epoch   5 Batch  215/269 - Train Accuracy: 0.9521, Validation Accuracy: 0.9570, Loss: 0.0306\n",
      "Epoch   5 Batch  220/269 - Train Accuracy: 0.9497, Validation Accuracy: 0.9628, Loss: 0.0310\n",
      "Epoch   5 Batch  225/269 - Train Accuracy: 0.9471, Validation Accuracy: 0.9616, Loss: 0.0286\n",
      "Epoch   5 Batch  230/269 - Train Accuracy: 0.9570, Validation Accuracy: 0.9635, Loss: 0.0310\n",
      "Epoch   5 Batch  235/269 - Train Accuracy: 0.9807, Validation Accuracy: 0.9704, Loss: 0.0241\n",
      "Epoch   5 Batch  240/269 - Train Accuracy: 0.9636, Validation Accuracy: 0.9601, Loss: 0.0284\n",
      "Epoch   5 Batch  245/269 - Train Accuracy: 0.9502, Validation Accuracy: 0.9618, Loss: 0.0299\n",
      "Epoch   5 Batch  250/269 - Train Accuracy: 0.9550, Validation Accuracy: 0.9633, Loss: 0.0294\n",
      "Epoch   5 Batch  255/269 - Train Accuracy: 0.9546, Validation Accuracy: 0.9579, Loss: 0.0308\n",
      "Epoch   5 Batch  260/269 - Train Accuracy: 0.9545, Validation Accuracy: 0.9591, Loss: 0.0329\n",
      "Epoch   5 Batch  265/269 - Train Accuracy: 0.9509, Validation Accuracy: 0.9578, Loss: 0.0313\n",
      "Model Trained and Saved\n"
     ]
    }
   ],
   "source": [
    "\"\"\"\n",
    "DON'T MODIFY ANYTHING IN THIS CELL\n",
    "\"\"\"\n",
    "def get_accuracy(target, logits):\n",
    "    \"\"\"\n",
    "    Calculate accuracy\n",
    "    \"\"\"\n",
    "    max_seq = max(target.shape[1], logits.shape[1])\n",
    "    if max_seq - target.shape[1]:\n",
    "        target = np.pad(\n",
    "            target,\n",
    "            [(0,0),(0,max_seq - target.shape[1])],\n",
    "            'constant')\n",
    "    if max_seq - logits.shape[1]:\n",
    "        logits = np.pad(\n",
    "            logits,\n",
    "            [(0,0),(0,max_seq - logits.shape[1])],\n",
    "            'constant')\n",
    "\n",
    "    return np.mean(np.equal(target, logits))\n",
    "\n",
    "# Split data to training and validation sets\n",
    "train_source = source_int_text[batch_size:]\n",
    "train_target = target_int_text[batch_size:]\n",
    "valid_source = source_int_text[:batch_size]\n",
    "valid_target = target_int_text[:batch_size]\n",
    "(valid_sources_batch, valid_targets_batch, valid_sources_lengths, valid_targets_lengths ) = next(get_batches(valid_source,\n",
    "                                                                                                             valid_target,\n",
    "                                                                                                             batch_size,\n",
    "                                                                                                             source_vocab_to_int['<PAD>'],\n",
    "                                                                                                             target_vocab_to_int['<PAD>']))                                                                                                  \n",
    "with tf.Session(graph=train_graph) as sess:\n",
    "    sess.run(tf.global_variables_initializer())\n",
    "\n",
    "    for epoch_i in range(epochs):\n",
    "        for batch_i, (source_batch, target_batch, sources_lengths, targets_lengths) in enumerate(\n",
    "                get_batches(train_source, train_target, batch_size,\n",
    "                            source_vocab_to_int['<PAD>'],\n",
    "                            target_vocab_to_int['<PAD>'])):\n",
    "\n",
    "            _, loss = sess.run(\n",
    "                [train_op, cost],\n",
    "                {input_data: source_batch,\n",
    "                 targets: target_batch,\n",
    "                 lr: learning_rate,\n",
    "                 target_sequence_length: targets_lengths,\n",
    "                 source_sequence_length: sources_lengths,\n",
    "                 keep_prob: keep_probability})\n",
    "\n",
    "\n",
    "            if batch_i % display_step == 0 and batch_i > 0:\n",
    "\n",
    "\n",
    "                batch_train_logits = sess.run(\n",
    "                    inference_logits,\n",
    "                    {input_data: source_batch,\n",
    "                     source_sequence_length: sources_lengths,\n",
    "                     target_sequence_length: targets_lengths,\n",
    "                     keep_prob: 1.0})\n",
    "\n",
    "\n",
    "                batch_valid_logits = sess.run(\n",
    "                    inference_logits,\n",
    "                    {input_data: valid_sources_batch,\n",
    "                     source_sequence_length: valid_sources_lengths,\n",
    "                     target_sequence_length: valid_targets_lengths,\n",
    "                     keep_prob: 1.0})\n",
    "\n",
    "                train_acc = get_accuracy(target_batch, batch_train_logits)\n",
    "\n",
    "                valid_acc = get_accuracy(valid_targets_batch, batch_valid_logits)\n",
    "\n",
    "                print('Epoch {:>3} Batch {:>4}/{} - Train Accuracy: {:>6.4f}, Validation Accuracy: {:>6.4f}, Loss: {:>6.4f}'\n",
    "                      .format(epoch_i, batch_i, len(source_int_text) // batch_size, train_acc, valid_acc, loss))\n",
    "\n",
    "    # Save Model\n",
    "    saver = tf.train.Saver()\n",
    "    saver.save(sess, save_path)\n",
    "    print('Model Trained and Saved')"
   ]
  },
  {
   "cell_type": "markdown",
   "metadata": {},
   "source": [
    "### Save Parameters\n",
    "Save the `batch_size` and `save_path` parameters for inference."
   ]
  },
  {
   "cell_type": "code",
   "execution_count": 18,
   "metadata": {
    "collapsed": true
   },
   "outputs": [],
   "source": [
    "\"\"\"\n",
    "DON'T MODIFY ANYTHING IN THIS CELL\n",
    "\"\"\"\n",
    "# Save parameters for checkpoint\n",
    "helper.save_params(save_path)"
   ]
  },
  {
   "cell_type": "markdown",
   "metadata": {},
   "source": [
    "# Checkpoint"
   ]
  },
  {
   "cell_type": "code",
   "execution_count": 19,
   "metadata": {
    "collapsed": true
   },
   "outputs": [],
   "source": [
    "\"\"\"\n",
    "DON'T MODIFY ANYTHING IN THIS CELL\n",
    "\"\"\"\n",
    "import tensorflow as tf\n",
    "import numpy as np\n",
    "import helper\n",
    "import problem_unittests as tests\n",
    "\n",
    "_, (source_vocab_to_int, target_vocab_to_int), (source_int_to_vocab, target_int_to_vocab) = helper.load_preprocess()\n",
    "load_path = helper.load_params()"
   ]
  },
  {
   "cell_type": "markdown",
   "metadata": {},
   "source": [
    "## Sentence to Sequence\n",
    "To feed a sentence into the model for translation, you first need to preprocess it.  Implement the function `sentence_to_seq()` to preprocess new sentences.\n",
    "\n",
    "- Convert the sentence to lowercase\n",
    "- Convert words into ids using `vocab_to_int`\n",
    " - Convert words not in the vocabulary, to the `<UNK>` word id."
   ]
  },
  {
   "cell_type": "code",
   "execution_count": 20,
   "metadata": {},
   "outputs": [
    {
     "name": "stdout",
     "output_type": "stream",
     "text": [
      "Tests Passed\n"
     ]
    }
   ],
   "source": [
    "def sentence_to_seq(sentence, vocab_to_int):\n",
    "    \"\"\"\n",
    "    Convert a sentence to a sequence of ids\n",
    "    :param sentence: String\n",
    "    :param vocab_to_int: Dictionary to go from the words to an id\n",
    "    :return: List of word ids\n",
    "    \"\"\"\n",
    "    # TODO: Implement Function\n",
    "    sentence = sentence.lower()\n",
    "    ids = [(vocab_to_int[word] if word in vocab_to_int else vocab_to_int[\"<UNK>\"]) for word in sentence.split()]\n",
    "    return ids\n",
    "\n",
    "\n",
    "\"\"\"\n",
    "DON'T MODIFY ANYTHING IN THIS CELL THAT IS BELOW THIS LINE\n",
    "\"\"\"\n",
    "tests.test_sentence_to_seq(sentence_to_seq)"
   ]
  },
  {
   "cell_type": "markdown",
   "metadata": {},
   "source": [
    "## Translate\n",
    "This will translate `translate_sentence` from English to French."
   ]
  },
  {
   "cell_type": "code",
   "execution_count": 21,
   "metadata": {},
   "outputs": [
    {
     "name": "stdout",
     "output_type": "stream",
     "text": [
      "INFO:tensorflow:Restoring parameters from checkpoints/dev\n",
      "Input\n",
      "  Word Ids:      [103, 96, 220, 137, 91, 185, 13]\n",
      "  English Words: ['he', 'saw', 'a', 'old', 'yellow', 'truck', '.']\n",
      "\n",
      "Prediction\n",
      "  Word Ids:      [252, 224, 112, 83, 176, 271, 1]\n",
      "  French Words: il vu le vieux camion . <EOS>\n"
     ]
    }
   ],
   "source": [
    "translate_sentence = 'he saw a old yellow truck .'\n",
    "\n",
    "\n",
    "\"\"\"\n",
    "DON'T MODIFY ANYTHING IN THIS CELL\n",
    "\"\"\"\n",
    "translate_sentence = sentence_to_seq(translate_sentence, source_vocab_to_int)\n",
    "\n",
    "loaded_graph = tf.Graph()\n",
    "with tf.Session(graph=loaded_graph) as sess:\n",
    "    # Load saved model\n",
    "    loader = tf.train.import_meta_graph(load_path + '.meta')\n",
    "    loader.restore(sess, load_path)\n",
    "\n",
    "    input_data = loaded_graph.get_tensor_by_name('input:0')\n",
    "    logits = loaded_graph.get_tensor_by_name('predictions:0')\n",
    "    target_sequence_length = loaded_graph.get_tensor_by_name('target_sequence_length:0')\n",
    "    source_sequence_length = loaded_graph.get_tensor_by_name('source_sequence_length:0')\n",
    "    keep_prob = loaded_graph.get_tensor_by_name('keep_prob:0')\n",
    "\n",
    "    translate_logits = sess.run(logits, {input_data: [translate_sentence]*batch_size,\n",
    "                                         target_sequence_length: [len(translate_sentence)*2]*batch_size,\n",
    "                                         source_sequence_length: [len(translate_sentence)]*batch_size,\n",
    "                                         keep_prob: 1.0})[0]\n",
    "\n",
    "print('Input')\n",
    "print('  Word Ids:      {}'.format([i for i in translate_sentence]))\n",
    "print('  English Words: {}'.format([source_int_to_vocab[i] for i in translate_sentence]))\n",
    "\n",
    "print('\\nPrediction')\n",
    "print('  Word Ids:      {}'.format([i for i in translate_logits]))\n",
    "print('  French Words: {}'.format(\" \".join([target_int_to_vocab[i] for i in translate_logits])))\n"
   ]
  },
  {
   "cell_type": "markdown",
   "metadata": {},
   "source": [
    "## Imperfect Translation\n",
    "You might notice that some sentences translate better than others.  Since the dataset you're using only has a vocabulary of 227 English words of the thousands that you use, you're only going to see good results using these words.  For this project, you don't need a perfect translation. However, if you want to create a better translation model, you'll need better data.\n",
    "\n",
    "You can train on the [WMT10 French-English corpus](http://www.statmt.org/wmt10/training-giga-fren.tar).  This dataset has more vocabulary and richer in topics discussed.  However, this will take you days to train, so make sure you've a GPU and the neural network is performing well on dataset we provided.  Just make sure you play with the WMT10 corpus after you've submitted this project.\n",
    "## Submitting This Project\n",
    "When submitting this project, make sure to run all the cells before saving the notebook. Save the notebook file as \"dlnd_language_translation.ipynb\" and save it as a HTML file under \"File\" -> \"Download as\". Include the \"helper.py\" and \"problem_unittests.py\" files in your submission."
   ]
  }
 ],
 "metadata": {
  "anaconda-cloud": {},
  "kernelspec": {
   "display_name": "Python 3",
   "language": "python",
   "name": "python3"
  },
  "language_info": {
   "codemirror_mode": {
    "name": "ipython",
    "version": 3
   },
   "file_extension": ".py",
   "mimetype": "text/x-python",
   "name": "python",
   "nbconvert_exporter": "python",
   "pygments_lexer": "ipython3",
   "version": "3.5.3"
  }
 },
 "nbformat": 4,
 "nbformat_minor": 1
}
