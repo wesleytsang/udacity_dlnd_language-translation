{
 "cells": [
  {
   "cell_type": "markdown",
   "metadata": {
    "collapsed": true
   },
   "source": [
    "# Language Translation\n",
    "In this project, you’re going to take a peek into the realm of neural network machine translation.  You’ll be training a sequence to sequence model on a dataset of English and French sentences that can translate new sentences from English to French.\n",
    "## Get the Data\n",
    "Since translating the whole language of English to French will take lots of time to train, we have provided you with a small portion of the English corpus."
   ]
  },
  {
   "cell_type": "code",
   "execution_count": 1,
   "metadata": {
    "collapsed": true
   },
   "outputs": [],
   "source": [
    "\"\"\"\n",
    "DON'T MODIFY ANYTHING IN THIS CELL\n",
    "\"\"\"\n",
    "import helper\n",
    "import problem_unittests as tests\n",
    "\n",
    "source_path = 'data/small_vocab_en'\n",
    "target_path = 'data/small_vocab_fr'\n",
    "source_text = helper.load_data(source_path)\n",
    "target_text = helper.load_data(target_path)"
   ]
  },
  {
   "cell_type": "markdown",
   "metadata": {},
   "source": [
    "## Explore the Data\n",
    "Play around with view_sentence_range to view different parts of the data."
   ]
  },
  {
   "cell_type": "code",
   "execution_count": 2,
   "metadata": {},
   "outputs": [
    {
     "name": "stdout",
     "output_type": "stream",
     "text": [
      "Dataset Stats\n",
      "Roughly the number of unique words: 227\n",
      "Number of sentences: 137861\n",
      "Average number of words in a sentence: 13.225277634719028\n",
      "\n",
      "English sentences 0 to 10:\n",
      "new jersey is sometimes quiet during autumn , and it is snowy in april .\n",
      "the united states is usually chilly during july , and it is usually freezing in november .\n",
      "california is usually quiet during march , and it is usually hot in june .\n",
      "the united states is sometimes mild during june , and it is cold in september .\n",
      "your least liked fruit is the grape , but my least liked is the apple .\n",
      "his favorite fruit is the orange , but my favorite is the grape .\n",
      "paris is relaxing during december , but it is usually chilly in july .\n",
      "new jersey is busy during spring , and it is never hot in march .\n",
      "our least liked fruit is the lemon , but my least liked is the grape .\n",
      "the united states is sometimes busy during january , and it is sometimes warm in november .\n",
      "\n",
      "French sentences 0 to 10:\n",
      "new jersey est parfois calme pendant l' automne , et il est neigeux en avril .\n",
      "les états-unis est généralement froid en juillet , et il gèle habituellement en novembre .\n",
      "california est généralement calme en mars , et il est généralement chaud en juin .\n",
      "les états-unis est parfois légère en juin , et il fait froid en septembre .\n",
      "votre moins aimé fruit est le raisin , mais mon moins aimé est la pomme .\n",
      "son fruit préféré est l'orange , mais mon préféré est le raisin .\n",
      "paris est relaxant en décembre , mais il est généralement froid en juillet .\n",
      "new jersey est occupé au printemps , et il est jamais chaude en mars .\n",
      "notre fruit est moins aimé le citron , mais mon moins aimé est le raisin .\n",
      "les états-unis est parfois occupé en janvier , et il est parfois chaud en novembre .\n"
     ]
    }
   ],
   "source": [
    "view_sentence_range = (0, 10)\n",
    "\n",
    "\"\"\"\n",
    "DON'T MODIFY ANYTHING IN THIS CELL\n",
    "\"\"\"\n",
    "import numpy as np\n",
    "\n",
    "print('Dataset Stats')\n",
    "print('Roughly the number of unique words: {}'.format(len({word: None for word in source_text.split()})))\n",
    "\n",
    "sentences = source_text.split('\\n')\n",
    "word_counts = [len(sentence.split()) for sentence in sentences]\n",
    "print('Number of sentences: {}'.format(len(sentences)))\n",
    "print('Average number of words in a sentence: {}'.format(np.average(word_counts)))\n",
    "\n",
    "print()\n",
    "print('English sentences {} to {}:'.format(*view_sentence_range))\n",
    "print('\\n'.join(source_text.split('\\n')[view_sentence_range[0]:view_sentence_range[1]]))\n",
    "print()\n",
    "print('French sentences {} to {}:'.format(*view_sentence_range))\n",
    "print('\\n'.join(target_text.split('\\n')[view_sentence_range[0]:view_sentence_range[1]]))"
   ]
  },
  {
   "cell_type": "markdown",
   "metadata": {},
   "source": [
    "## Implement Preprocessing Function\n",
    "### Text to Word Ids\n",
    "As you did with other RNNs, you must turn the text into a number so the computer can understand it. In the function `text_to_ids()`, you'll turn `source_text` and `target_text` from words to ids.  However, you need to add the `<EOS>` word id at the end of `target_text`.  This will help the neural network predict when the sentence should end.\n",
    "\n",
    "You can get the `<EOS>` word id by doing:\n",
    "```python\n",
    "target_vocab_to_int['<EOS>']\n",
    "```\n",
    "You can get other word ids using `source_vocab_to_int` and `target_vocab_to_int`."
   ]
  },
  {
   "cell_type": "code",
   "execution_count": 3,
   "metadata": {},
   "outputs": [
    {
     "name": "stdout",
     "output_type": "stream",
     "text": [
      "Tests Passed\n"
     ]
    }
   ],
   "source": [
    "def text_to_ids(source_text, target_text, source_vocab_to_int, target_vocab_to_int):\n",
    "    \"\"\"\n",
    "    Convert source and target text to proper word ids\n",
    "    :param source_text: String that contains all the source text.\n",
    "    :param target_text: String that contains all the target text.\n",
    "    :param source_vocab_to_int: Dictionary to go from the source words to an id\n",
    "    :param target_vocab_to_int: Dictionary to go from the target words to an id\n",
    "    :return: A tuple of lists (source_id_text, target_id_text)\n",
    "    \"\"\"\n",
    "    # TODO: Implement Function\n",
    "    source_id_text = [[source_vocab_to_int[word] for word in sentence.split()] for sentence in source_text.split(\"\\n\")]\n",
    "    target_id_text = [[target_vocab_to_int[word] for word in sentence.split()]+[target_vocab_to_int['<EOS>']] for sentence in target_text.split(\"\\n\")]\n",
    "    return source_id_text, target_id_text\n",
    "\n",
    "\"\"\"\n",
    "DON'T MODIFY ANYTHING IN THIS CELL THAT IS BELOW THIS LINE\n",
    "\"\"\"\n",
    "tests.test_text_to_ids(text_to_ids)"
   ]
  },
  {
   "cell_type": "markdown",
   "metadata": {},
   "source": [
    "### Preprocess all the data and save it\n",
    "Running the code cell below will preprocess all the data and save it to file."
   ]
  },
  {
   "cell_type": "code",
   "execution_count": 4,
   "metadata": {
    "collapsed": true
   },
   "outputs": [],
   "source": [
    "\"\"\"\n",
    "DON'T MODIFY ANYTHING IN THIS CELL\n",
    "\"\"\"\n",
    "helper.preprocess_and_save_data(source_path, target_path, text_to_ids)"
   ]
  },
  {
   "cell_type": "markdown",
   "metadata": {},
   "source": [
    "# Check Point\n",
    "This is your first checkpoint. If you ever decide to come back to this notebook or have to restart the notebook, you can start from here. The preprocessed data has been saved to disk."
   ]
  },
  {
   "cell_type": "code",
   "execution_count": 1,
   "metadata": {
    "collapsed": true
   },
   "outputs": [],
   "source": [
    "\"\"\"\n",
    "DON'T MODIFY ANYTHING IN THIS CELL\n",
    "\"\"\"\n",
    "import numpy as np\n",
    "import helper\n",
    "import problem_unittests as tests\n",
    "\n",
    "(source_int_text, target_int_text), (source_vocab_to_int, target_vocab_to_int), _ = helper.load_preprocess()"
   ]
  },
  {
   "cell_type": "markdown",
   "metadata": {},
   "source": [
    "### Check the Version of TensorFlow and Access to GPU\n",
    "This will check to make sure you have the correct version of TensorFlow and access to a GPU"
   ]
  },
  {
   "cell_type": "code",
   "execution_count": 2,
   "metadata": {},
   "outputs": [
    {
     "name": "stdout",
     "output_type": "stream",
     "text": [
      "TensorFlow Version: 1.1.0\n",
      "Default GPU Device: /gpu:0\n"
     ]
    }
   ],
   "source": [
    "\"\"\"\n",
    "DON'T MODIFY ANYTHING IN THIS CELL\n",
    "\"\"\"\n",
    "from distutils.version import LooseVersion\n",
    "import warnings\n",
    "import tensorflow as tf\n",
    "from tensorflow.python.layers.core import Dense\n",
    "\n",
    "# Check TensorFlow Version\n",
    "assert LooseVersion(tf.__version__) >= LooseVersion('1.1'), 'Please use TensorFlow version 1.1 or newer'\n",
    "print('TensorFlow Version: {}'.format(tf.__version__))\n",
    "\n",
    "# Check for a GPU\n",
    "if not tf.test.gpu_device_name():\n",
    "    warnings.warn('No GPU found. Please use a GPU to train your neural network.')\n",
    "else:\n",
    "    print('Default GPU Device: {}'.format(tf.test.gpu_device_name()))"
   ]
  },
  {
   "cell_type": "markdown",
   "metadata": {},
   "source": [
    "## Build the Neural Network\n",
    "You'll build the components necessary to build a Sequence-to-Sequence model by implementing the following functions below:\n",
    "- `model_inputs`\n",
    "- `process_decoder_input`\n",
    "- `encoding_layer`\n",
    "- `decoding_layer_train`\n",
    "- `decoding_layer_infer`\n",
    "- `decoding_layer`\n",
    "- `seq2seq_model`\n",
    "\n",
    "### Input\n",
    "Implement the `model_inputs()` function to create TF Placeholders for the Neural Network. It should create the following placeholders:\n",
    "\n",
    "- Input text placeholder named \"input\" using the TF Placeholder name parameter with rank 2.\n",
    "- Targets placeholder with rank 2.\n",
    "- Learning rate placeholder with rank 0.\n",
    "- Keep probability placeholder named \"keep_prob\" using the TF Placeholder name parameter with rank 0.\n",
    "- Target sequence length placeholder named \"target_sequence_length\" with rank 1\n",
    "- Max target sequence length tensor named \"max_target_len\" getting its value from applying tf.reduce_max on the target_sequence_length placeholder. Rank 0.\n",
    "- Source sequence length placeholder named \"source_sequence_length\" with rank 1\n",
    "\n",
    "Return the placeholders in the following the tuple (input, targets, learning rate, keep probability, target sequence length, max target sequence length, source sequence length)"
   ]
  },
  {
   "cell_type": "code",
   "execution_count": 16,
   "metadata": {},
   "outputs": [
    {
     "name": "stdout",
     "output_type": "stream",
     "text": [
      "Tests Passed\n"
     ]
    }
   ],
   "source": [
    "def model_inputs():\n",
    "    \"\"\"\n",
    "    Create TF Placeholders for input, targets, learning rate, and lengths of source and target sequences.\n",
    "    :return: Tuple (input, targets, learning rate, keep probability, target sequence length,\n",
    "    max target sequence length, source sequence length)\n",
    "    \"\"\"\n",
    "    # TODO: Implement Function\n",
    "    inputs = tf.placeholder(tf.int32, [None, None],name=\"input\")\n",
    "    targets = tf.placeholder(tf.int32,[None, None])\n",
    "    learning_rate = tf.placeholder(tf.float32)\n",
    "    keep_probability = tf.placeholder(tf.float32, None, name=\"keep_prob\")\n",
    "    target_sequence_length = tf.placeholder(tf.int32, (None,), name=\"target_sequence_length\")\n",
    "    max_target_sequence_length = tf.reduce_max(target_sequence_length, name=\"max_target_length\")\n",
    "    source_sequence_length = tf.placeholder(tf.int32, (None,),name=\"source_sequence_length\")\n",
    "    \n",
    "    return inputs, targets, learning_rate, keep_probability, target_sequence_length, max_target_sequence_length, source_sequence_length\n",
    "\n",
    "\n",
    "\"\"\"\n",
    "DON'T MODIFY ANYTHING IN THIS CELL THAT IS BELOW THIS LINE\n",
    "\"\"\"\n",
    "tests.test_model_inputs(model_inputs)"
   ]
  },
  {
   "cell_type": "markdown",
   "metadata": {},
   "source": [
    "### Process Decoder Input\n",
    "Implement `process_decoder_input` by removing the last word id from each batch in `target_data` and concat the GO ID to the begining of each batch."
   ]
  },
  {
   "cell_type": "code",
   "execution_count": 4,
   "metadata": {},
   "outputs": [
    {
     "name": "stdout",
     "output_type": "stream",
     "text": [
      "Tests Passed\n"
     ]
    }
   ],
   "source": [
    "def process_decoder_input(target_data, target_vocab_to_int, batch_size):\n",
    "    \"\"\"\n",
    "    Preprocess target data for encoding\n",
    "    :param target_data: Target Placehoder\n",
    "    :param target_vocab_to_int: Dictionary to go from the target words to an id\n",
    "    :param batch_size: Batch Size\n",
    "    :return: Preprocessed target data\n",
    "    \"\"\"\n",
    "    # TODO: Implement Function\n",
    "    without_last = tf.strided_slice(target_data, [0, 0], [batch_size, -1], [1, 1])\n",
    "    output = tf.concat([tf.fill([batch_size, 1], target_vocab_to_int['<GO>']), without_last], 1)\n",
    "    return output\n",
    "\n",
    "\"\"\"\n",
    "DON'T MODIFY ANYTHING IN THIS CELL THAT IS BELOW THIS LINE\n",
    "\"\"\"\n",
    "tests.test_process_encoding_input(process_decoder_input)"
   ]
  },
  {
   "cell_type": "markdown",
   "metadata": {},
   "source": [
    "### Encoding\n",
    "Implement `encoding_layer()` to create a Encoder RNN layer:\n",
    " * Embed the encoder input using [`tf.contrib.layers.embed_sequence`](https://www.tensorflow.org/api_docs/python/tf/contrib/layers/embed_sequence)\n",
    " * Construct a [stacked](https://github.com/tensorflow/tensorflow/blob/6947f65a374ebf29e74bb71e36fd82760056d82c/tensorflow/docs_src/tutorials/recurrent.md#stacking-multiple-lstms) [`tf.contrib.rnn.LSTMCell`](https://www.tensorflow.org/api_docs/python/tf/contrib/rnn/LSTMCell) wrapped in a [`tf.contrib.rnn.DropoutWrapper`](https://www.tensorflow.org/api_docs/python/tf/contrib/rnn/DropoutWrapper)\n",
    " * Pass cell and embedded input to [`tf.nn.dynamic_rnn()`](https://www.tensorflow.org/api_docs/python/tf/nn/dynamic_rnn)"
   ]
  },
  {
   "cell_type": "code",
   "execution_count": 5,
   "metadata": {
    "scrolled": false
   },
   "outputs": [
    {
     "name": "stdout",
     "output_type": "stream",
     "text": [
      "Tests Passed\n"
     ]
    }
   ],
   "source": [
    "from imp import reload\n",
    "reload(tests)\n",
    "\n",
    "def encoding_layer(rnn_inputs, rnn_size, num_layers, keep_prob, \n",
    "                   source_sequence_length, source_vocab_size, \n",
    "                   encoding_embedding_size):\n",
    "    \"\"\"\n",
    "    Create encoding layer\n",
    "    :param rnn_inputs: Inputs for the RNN\n",
    "    :param rnn_size: RNN Size\n",
    "    :param num_layers: Number of layers\n",
    "    :param keep_prob: Dropout keep probability\n",
    "    :param source_sequence_length: a list of the lengths of each sequence in the batch\n",
    "    :param source_vocab_size: vocabulary size of source data\n",
    "    :param encoding_embedding_size: embedding size of source data\n",
    "    :return: tuple (RNN output, RNN state)\n",
    "    \"\"\"\n",
    "    # TODO: Implement Function\n",
    "    def make_cell(rnn_size):\n",
    "        cell = tf.contrib.rnn.LSTMCell(rnn_size, initializer=tf.random_uniform_initializer(-0.1, 0.1, seed=2))\n",
    "        return cell\n",
    "    \n",
    "    inputs = tf.contrib.layers.embed_sequence(rnn_inputs, source_vocab_size,encoding_embedding_size)\n",
    "    cell = tf.contrib.rnn.MultiRNNCell([make_cell(rnn_size) for _ in range(num_layers)])\n",
    "    cell = tf.contrib.rnn.DropoutWrapper(cell, output_keep_prob=keep_prob)\n",
    "    enc_output, enc_state = tf.nn.dynamic_rnn(cell, inputs, sequence_length=source_sequence_length, dtype=tf.float32)\n",
    "    return enc_output, enc_state\n",
    "\n",
    "\"\"\"\n",
    "DON'T MODIFY ANYTHING IN THIS CELL THAT IS BELOW THIS LINE\n",
    "\"\"\"\n",
    "tests.test_encoding_layer(encoding_layer)"
   ]
  },
  {
   "cell_type": "markdown",
   "metadata": {},
   "source": [
    "### Decoding - Training\n",
    "Create a training decoding layer:\n",
    "* Create a [`tf.contrib.seq2seq.TrainingHelper`](https://www.tensorflow.org/api_docs/python/tf/contrib/seq2seq/TrainingHelper) \n",
    "* Create a [`tf.contrib.seq2seq.BasicDecoder`](https://www.tensorflow.org/api_docs/python/tf/contrib/seq2seq/BasicDecoder)\n",
    "* Obtain the decoder outputs from [`tf.contrib.seq2seq.dynamic_decode`](https://www.tensorflow.org/api_docs/python/tf/contrib/seq2seq/dynamic_decode)"
   ]
  },
  {
   "cell_type": "code",
   "execution_count": 6,
   "metadata": {},
   "outputs": [
    {
     "name": "stdout",
     "output_type": "stream",
     "text": [
      "Tests Passed\n"
     ]
    }
   ],
   "source": [
    "\n",
    "def decoding_layer_train(encoder_state, dec_cell, dec_embed_input, \n",
    "                         target_sequence_length, max_summary_length, \n",
    "                         output_layer, keep_prob):\n",
    "    \"\"\"\n",
    "    Create a decoding layer for training\n",
    "    :param encoder_state: Encoder State\n",
    "    :param dec_cell: Decoder RNN Cell\n",
    "    :param dec_embed_input: Decoder embedded input\n",
    "    :param target_sequence_length: The lengths of each sequence in the target batch\n",
    "    :param max_summary_length: The length of the longest sequence in the batch\n",
    "    :param output_layer: Function to apply the output layer\n",
    "    :param keep_prob: Dropout keep probability\n",
    "    :return: BasicDecoderOutput containing training logits and sample_id\n",
    "    \"\"\"\n",
    "    # TODO: Implement Function\n",
    "    training_helper = tf.contrib.seq2seq.TrainingHelper(dec_embed_input, target_sequence_length)\n",
    "    training_decoder = tf.contrib.seq2seq.BasicDecoder(dec_cell, training_helper, encoder_state, output_layer)\n",
    "    training_decoder_output = tf.contrib.seq2seq.dynamic_decode(training_decoder, impute_finished=True, maximum_iterations=max_summary_length)[0]\n",
    "    return training_decoder_output\n",
    "\n",
    "\n",
    "\n",
    "\"\"\"\n",
    "DON'T MODIFY ANYTHING IN THIS CELL THAT IS BELOW THIS LINE\n",
    "\"\"\"\n",
    "tests.test_decoding_layer_train(decoding_layer_train)"
   ]
  },
  {
   "cell_type": "markdown",
   "metadata": {},
   "source": [
    "### Decoding - Inference\n",
    "Create inference decoder:\n",
    "* Create a [`tf.contrib.seq2seq.GreedyEmbeddingHelper`](https://www.tensorflow.org/api_docs/python/tf/contrib/seq2seq/GreedyEmbeddingHelper)\n",
    "* Create a [`tf.contrib.seq2seq.BasicDecoder`](https://www.tensorflow.org/api_docs/python/tf/contrib/seq2seq/BasicDecoder)\n",
    "* Obtain the decoder outputs from [`tf.contrib.seq2seq.dynamic_decode`](https://www.tensorflow.org/api_docs/python/tf/contrib/seq2seq/dynamic_decode)"
   ]
  },
  {
   "cell_type": "code",
   "execution_count": 7,
   "metadata": {
    "scrolled": true
   },
   "outputs": [
    {
     "name": "stdout",
     "output_type": "stream",
     "text": [
      "Tests Passed\n"
     ]
    }
   ],
   "source": [
    "def decoding_layer_infer(encoder_state, dec_cell, dec_embeddings, start_of_sequence_id,\n",
    "                         end_of_sequence_id, max_target_sequence_length,\n",
    "                         vocab_size, output_layer, batch_size, keep_prob):\n",
    "    \"\"\"\n",
    "    Create a decoding layer for inference\n",
    "    :param encoder_state: Encoder state\n",
    "    :param dec_cell: Decoder RNN Cell\n",
    "    :param dec_embeddings: Decoder embeddings\n",
    "    :param start_of_sequence_id: GO ID\n",
    "    :param end_of_sequence_id: EOS Id\n",
    "    :param max_target_sequence_length: Maximum length of target sequences\n",
    "    :param vocab_size: Size of decoder/target vocabulary\n",
    "    :param decoding_scope: TenorFlow Variable Scope for decoding\n",
    "    :param output_layer: Function to apply the output layer\n",
    "    :param batch_size: Batch size\n",
    "    :param keep_prob: Dropout keep probability\n",
    "    :return: BasicDecoderOutput containing inference logits and sample_id\n",
    "    \"\"\"\n",
    "    # TODO: Implement Function\n",
    "    start_tokens = tf.tile(tf.constant([start_of_sequence_id], dtype=tf.int32), [batch_size], name='start_tokens')\n",
    "    \n",
    "    inference_helper = tf.contrib.seq2seq.GreedyEmbeddingHelper(dec_embeddings,\n",
    "                                                                start_tokens,\n",
    "                                                                end_of_sequence_id)\n",
    "    inference_decoder = tf.contrib.seq2seq.BasicDecoder(dec_cell,\n",
    "                                                        inference_helper,\n",
    "                                                        encoder_state,\n",
    "                                                        output_layer)\n",
    "    inference_decoder_output = tf.contrib.seq2seq.dynamic_decode(inference_decoder,\n",
    "                                                            impute_finished=True,\n",
    "                                                            maximum_iterations=max_target_sequence_length)[0]\n",
    "    return inference_decoder_output\n",
    "\n",
    "\n",
    "\n",
    "\"\"\"\n",
    "DON'T MODIFY ANYTHING IN THIS CELL THAT IS BELOW THIS LINE\n",
    "\"\"\"\n",
    "tests.test_decoding_layer_infer(decoding_layer_infer)"
   ]
  },
  {
   "cell_type": "markdown",
   "metadata": {},
   "source": [
    "### Build the Decoding Layer\n",
    "Implement `decoding_layer()` to create a Decoder RNN layer.\n",
    "\n",
    "* Embed the target sequences\n",
    "* Construct the decoder LSTM cell (just like you constructed the encoder cell above)\n",
    "* Create an output layer to map the outputs of the decoder to the elements of our vocabulary\n",
    "* Use the your `decoding_layer_train(encoder_state, dec_cell, dec_embed_input, target_sequence_length, max_target_sequence_length, output_layer, keep_prob)` function to get the training logits.\n",
    "* Use your `decoding_layer_infer(encoder_state, dec_cell, dec_embeddings, start_of_sequence_id, end_of_sequence_id, max_target_sequence_length, vocab_size, output_layer, batch_size, keep_prob)` function to get the inference logits.\n",
    "\n",
    "Note: You'll need to use [tf.variable_scope](https://www.tensorflow.org/api_docs/python/tf/variable_scope) to share variables between training and inference."
   ]
  },
  {
   "cell_type": "code",
   "execution_count": 8,
   "metadata": {},
   "outputs": [
    {
     "name": "stdout",
     "output_type": "stream",
     "text": [
      "Tests Passed\n"
     ]
    }
   ],
   "source": [
    "def decoding_layer(dec_input, encoder_state,\n",
    "                   target_sequence_length, max_target_sequence_length,\n",
    "                   rnn_size,\n",
    "                   num_layers, target_vocab_to_int, target_vocab_size,\n",
    "                   batch_size, keep_prob, decoding_embedding_size):\n",
    "    \"\"\"\n",
    "    Create decoding layer\n",
    "    :param dec_input: Decoder input\n",
    "    :param encoder_state: Encoder state\n",
    "    :param target_sequence_length: The lengths of each sequence in the target batch\n",
    "    :param max_target_sequence_length: Maximum length of target sequences\n",
    "    :param rnn_size: RNN Size\n",
    "    :param num_layers: Number of layers\n",
    "    :param target_vocab_to_int: Dictionary to go from the target words to an id\n",
    "    :param target_vocab_size: Size of target vocabulary\n",
    "    :param batch_size: The size of the batch\n",
    "    :param keep_prob: Dropout keep probability\n",
    "    :param decoding_embedding_size: Decoding embedding size\n",
    "    :return: Tuple of (Training BasicDecoderOutput, Inference BasicDecoderOutput)\n",
    "    \"\"\"\n",
    "    # TODO: Implement Function\n",
    "    dec_embeddings = tf.Variable(tf.random_uniform([target_vocab_size, decoding_embedding_size]))\n",
    "    dec_embed_input = tf.nn.embedding_lookup(dec_embeddings, dec_input)\n",
    "    \n",
    "    def make_cell(rnn_size):\n",
    "        dec_cell = tf.contrib.rnn.LSTMCell(rnn_size, initializer=tf.random_uniform_initializer(-0.1, 0.1, seed=2))\n",
    "        return dec_cell\n",
    "    \n",
    "    dec_cell = tf.contrib.rnn.MultiRNNCell([make_cell(rnn_size) for _ in range(num_layers)])\n",
    "    \n",
    "    output_layer = Dense(target_vocab_size, kernel_initializer = tf.truncated_normal_initializer(mean = 0.0, stddev=0.1))\n",
    "    \n",
    "    with tf.variable_scope(\"decode\"):\n",
    "        training_logit = decoding_layer_train(encoder_state, dec_cell, dec_embed_input, target_sequence_length, max_target_sequence_length, output_layer, keep_prob)\n",
    "    \n",
    "    with tf.variable_scope(\"decode\", reuse=True):\n",
    "        inference_logit = decoding_layer_infer(encoder_state, dec_cell, dec_embeddings, target_vocab_to_int['<GO>'], target_vocab_to_int['<EOS>'], max_target_sequence_length, target_vocab_size, output_layer, batch_size, keep_prob)\n",
    "    \n",
    "    return training_logit, inference_logit\n",
    "\n",
    "\n",
    "\n",
    "\"\"\"\n",
    "DON'T MODIFY ANYTHING IN THIS CELL THAT IS BELOW THIS LINE\n",
    "\"\"\"\n",
    "tests.test_decoding_layer(decoding_layer)"
   ]
  },
  {
   "cell_type": "markdown",
   "metadata": {},
   "source": [
    "### Build the Neural Network\n",
    "Apply the functions you implemented above to:\n",
    "\n",
    "- Encode the input using your `encoding_layer(rnn_inputs, rnn_size, num_layers, keep_prob,  source_sequence_length, source_vocab_size, encoding_embedding_size)`.\n",
    "- Process target data using your `process_decoder_input(target_data, target_vocab_to_int, batch_size)` function.\n",
    "- Decode the encoded input using your `decoding_layer(dec_input, enc_state, target_sequence_length, max_target_sentence_length, rnn_size, num_layers, target_vocab_to_int, target_vocab_size, batch_size, keep_prob, dec_embedding_size)` function."
   ]
  },
  {
   "cell_type": "code",
   "execution_count": 9,
   "metadata": {},
   "outputs": [
    {
     "name": "stdout",
     "output_type": "stream",
     "text": [
      "Tests Passed\n"
     ]
    }
   ],
   "source": [
    "def seq2seq_model(input_data, target_data, keep_prob, batch_size,\n",
    "                  source_sequence_length, target_sequence_length,\n",
    "                  max_target_sentence_length,\n",
    "                  source_vocab_size, target_vocab_size,\n",
    "                  enc_embedding_size, dec_embedding_size,\n",
    "                  rnn_size, num_layers, target_vocab_to_int):\n",
    "    \"\"\"\n",
    "    Build the Sequence-to-Sequence part of the neural network\n",
    "    :param input_data: Input placeholder\n",
    "    :param target_data: Target placeholder\n",
    "    :param keep_prob: Dropout keep probability placeholder\n",
    "    :param batch_size: Batch Size\n",
    "    :param source_sequence_length: Sequence Lengths of source sequences in the batch\n",
    "    :param target_sequence_length: Sequence Lengths of target sequences in the batch\n",
    "    :param source_vocab_size: Source vocabulary size\n",
    "    :param target_vocab_size: Target vocabulary size\n",
    "    :param enc_embedding_size: Decoder embedding size\n",
    "    :param dec_embedding_size: Encoder embedding size\n",
    "    :param rnn_size: RNN Size\n",
    "    :param num_layers: Number of layers\n",
    "    :param target_vocab_to_int: Dictionary to go from the target words to an id\n",
    "    :return: Tuple of (Training BasicDecoderOutput, Inference BasicDecoderOutput)\n",
    "    \"\"\"\n",
    "    # TODO: Implement Function\n",
    "    _, enc_state = encoding_layer(input_data,\n",
    "                                  rnn_size,\n",
    "                                  num_layers,\n",
    "                                  keep_prob,\n",
    "                                  source_sequence_length,\n",
    "                                  source_vocab_size,\n",
    "                                  enc_embedding_size)\n",
    "    \n",
    "    dec_input = process_decoder_input(target_data,\n",
    "                                      target_vocab_to_int,\n",
    "                                      batch_size)\n",
    "    \n",
    "    training_decoder_output, inference_decoder_output = decoding_layer(dec_input,\n",
    "                                                                       enc_state,\n",
    "                                                                       target_sequence_length,\n",
    "                                                                       max_target_sentence_length,\n",
    "                                                                       rnn_size, num_layers,\n",
    "                                                                       target_vocab_to_int,\n",
    "                                                                       target_vocab_size,\n",
    "                                                                       batch_size,\n",
    "                                                                       keep_prob,\n",
    "                                                                       dec_embedding_size)\n",
    "    \n",
    "    return training_decoder_output, inference_decoder_output\n",
    "\n",
    "\n",
    "\"\"\"\n",
    "DON'T MODIFY ANYTHING IN THIS CELL THAT IS BELOW THIS LINE\n",
    "\"\"\"\n",
    "tests.test_seq2seq_model(seq2seq_model)"
   ]
  },
  {
   "cell_type": "markdown",
   "metadata": {},
   "source": [
    "## Neural Network Training\n",
    "### Hyperparameters\n",
    "Tune the following parameters:\n",
    "\n",
    "- Set `epochs` to the number of epochs.\n",
    "- Set `batch_size` to the batch size.\n",
    "- Set `rnn_size` to the size of the RNNs.\n",
    "- Set `num_layers` to the number of layers.\n",
    "- Set `encoding_embedding_size` to the size of the embedding for the encoder.\n",
    "- Set `decoding_embedding_size` to the size of the embedding for the decoder.\n",
    "- Set `learning_rate` to the learning rate.\n",
    "- Set `keep_probability` to the Dropout keep probability\n",
    "- Set `display_step` to state how many steps between each debug output statement"
   ]
  },
  {
   "cell_type": "code",
   "execution_count": 22,
   "metadata": {
    "collapsed": true
   },
   "outputs": [],
   "source": [
    "# Number of Epochs\n",
    "epochs = 6\n",
    "# Batch Size\n",
    "batch_size = 512\n",
    "# RNN Size\n",
    "rnn_size = 256\n",
    "# Number of Layers\n",
    "num_layers = 2\n",
    "# Embedding Size\n",
    "encoding_embedding_size = 128\n",
    "decoding_embedding_size = 128\n",
    "# Learning Rate\n",
    "learning_rate = 0.001\n",
    "# Dropout Keep Probability\n",
    "keep_probability = 0.8\n",
    "display_step = 5"
   ]
  },
  {
   "cell_type": "markdown",
   "metadata": {},
   "source": [
    "### Build the Graph\n",
    "Build the graph using the neural network you implemented."
   ]
  },
  {
   "cell_type": "code",
   "execution_count": 17,
   "metadata": {},
   "outputs": [],
   "source": [
    "\"\"\"\n",
    "DON'T MODIFY ANYTHING IN THIS CELL\n",
    "\"\"\"\n",
    "save_path = 'checkpoints/dev'\n",
    "(source_int_text, target_int_text), (source_vocab_to_int, target_vocab_to_int), _ = helper.load_preprocess()\n",
    "max_target_sentence_length = max([len(sentence) for sentence in source_int_text])\n",
    "\n",
    "train_graph = tf.Graph()\n",
    "with train_graph.as_default():\n",
    "    input_data, targets, lr, keep_prob, target_sequence_length, max_target_sequence_length, source_sequence_length = model_inputs()\n",
    "\n",
    "    #sequence_length = tf.placeholder_with_default(max_target_sentence_length, None, name='sequence_length')\n",
    "    input_shape = tf.shape(input_data)\n",
    "\n",
    "    train_logits, inference_logits = seq2seq_model(tf.reverse(input_data, [-1]),\n",
    "                                                   targets,\n",
    "                                                   keep_prob,\n",
    "                                                   batch_size,\n",
    "                                                   source_sequence_length,\n",
    "                                                   target_sequence_length,\n",
    "                                                   max_target_sequence_length,\n",
    "                                                   len(source_vocab_to_int),\n",
    "                                                   len(target_vocab_to_int),\n",
    "                                                   encoding_embedding_size,\n",
    "                                                   decoding_embedding_size,\n",
    "                                                   rnn_size,\n",
    "                                                   num_layers,\n",
    "                                                   target_vocab_to_int)\n",
    "\n",
    "\n",
    "    training_logits = tf.identity(train_logits.rnn_output, name='logits')\n",
    "    inference_logits = tf.identity(inference_logits.sample_id, name='predictions')\n",
    "\n",
    "    masks = tf.sequence_mask(target_sequence_length, max_target_sequence_length, dtype=tf.float32, name='masks')\n",
    "\n",
    "    with tf.name_scope(\"optimization\"):\n",
    "        # Loss function\n",
    "        cost = tf.contrib.seq2seq.sequence_loss(\n",
    "            training_logits,\n",
    "            targets,\n",
    "            masks)\n",
    "\n",
    "        # Optimizer\n",
    "        optimizer = tf.train.AdamOptimizer(lr)\n",
    "\n",
    "        # Gradient Clipping\n",
    "        gradients = optimizer.compute_gradients(cost)\n",
    "        capped_gradients = [(tf.clip_by_value(grad, -1., 1.), var) for grad, var in gradients if grad is not None]\n",
    "        train_op = optimizer.apply_gradients(capped_gradients)\n"
   ]
  },
  {
   "cell_type": "markdown",
   "metadata": {},
   "source": [
    "Batch and pad the source and target sequences"
   ]
  },
  {
   "cell_type": "code",
   "execution_count": 18,
   "metadata": {
    "collapsed": true
   },
   "outputs": [],
   "source": [
    "\"\"\"\n",
    "DON'T MODIFY ANYTHING IN THIS CELL\n",
    "\"\"\"\n",
    "def pad_sentence_batch(sentence_batch, pad_int):\n",
    "    \"\"\"Pad sentences with <PAD> so that each sentence of a batch has the same length\"\"\"\n",
    "    max_sentence = max([len(sentence) for sentence in sentence_batch])\n",
    "    return [sentence + [pad_int] * (max_sentence - len(sentence)) for sentence in sentence_batch]\n",
    "\n",
    "\n",
    "def get_batches(sources, targets, batch_size, source_pad_int, target_pad_int):\n",
    "    \"\"\"Batch targets, sources, and the lengths of their sentences together\"\"\"\n",
    "    for batch_i in range(0, len(sources)//batch_size):\n",
    "        start_i = batch_i * batch_size\n",
    "\n",
    "        # Slice the right amount for the batch\n",
    "        sources_batch = sources[start_i:start_i + batch_size]\n",
    "        targets_batch = targets[start_i:start_i + batch_size]\n",
    "\n",
    "        # Pad\n",
    "        pad_sources_batch = np.array(pad_sentence_batch(sources_batch, source_pad_int))\n",
    "        pad_targets_batch = np.array(pad_sentence_batch(targets_batch, target_pad_int))\n",
    "\n",
    "        # Need the lengths for the _lengths parameters\n",
    "        pad_targets_lengths = []\n",
    "        for target in pad_targets_batch:\n",
    "            pad_targets_lengths.append(len(target))\n",
    "\n",
    "        pad_source_lengths = []\n",
    "        for source in pad_sources_batch:\n",
    "            pad_source_lengths.append(len(source))\n",
    "\n",
    "        yield pad_sources_batch, pad_targets_batch, pad_source_lengths, pad_targets_lengths\n"
   ]
  },
  {
   "cell_type": "markdown",
   "metadata": {},
   "source": [
    "### Train\n",
    "Train the neural network on the preprocessed data. If you have a hard time getting a good loss, check the forms to see if anyone is having the same problem."
   ]
  },
  {
   "cell_type": "code",
   "execution_count": 23,
   "metadata": {
    "scrolled": true
   },
   "outputs": [
    {
     "name": "stdout",
     "output_type": "stream",
     "text": [
      "Epoch   0 Batch    5/269 - Train Accuracy: 0.2689, Validation Accuracy: 0.3422, Loss: 4.1207\n",
      "Epoch   0 Batch   10/269 - Train Accuracy: 0.3016, Validation Accuracy: 0.3672, Loss: 3.4336\n",
      "Epoch   0 Batch   15/269 - Train Accuracy: 0.3507, Validation Accuracy: 0.3925, Loss: 3.0262\n",
      "Epoch   0 Batch   20/269 - Train Accuracy: 0.3623, Validation Accuracy: 0.4208, Loss: 2.8951\n",
      "Epoch   0 Batch   25/269 - Train Accuracy: 0.3795, Validation Accuracy: 0.4346, Loss: 2.7905\n",
      "Epoch   0 Batch   30/269 - Train Accuracy: 0.4321, Validation Accuracy: 0.4588, Loss: 2.5577\n",
      "Epoch   0 Batch   35/269 - Train Accuracy: 0.4413, Validation Accuracy: 0.4626, Loss: 2.4539\n",
      "Epoch   0 Batch   40/269 - Train Accuracy: 0.4269, Validation Accuracy: 0.4769, Loss: 2.4539\n",
      "Epoch   0 Batch   45/269 - Train Accuracy: 0.4148, Validation Accuracy: 0.4664, Loss: 2.3828\n",
      "Epoch   0 Batch   50/269 - Train Accuracy: 0.4267, Validation Accuracy: 0.4712, Loss: 2.3333\n",
      "Epoch   0 Batch   55/269 - Train Accuracy: 0.4481, Validation Accuracy: 0.4790, Loss: 2.1288\n",
      "Epoch   0 Batch   60/269 - Train Accuracy: 0.4878, Validation Accuracy: 0.5085, Loss: 1.9886\n",
      "Epoch   0 Batch   65/269 - Train Accuracy: 0.4798, Validation Accuracy: 0.5058, Loss: 1.9457\n",
      "Epoch   0 Batch   70/269 - Train Accuracy: 0.4838, Validation Accuracy: 0.4994, Loss: 1.8704\n",
      "Epoch   0 Batch   75/269 - Train Accuracy: 0.4724, Validation Accuracy: 0.5078, Loss: 1.7947\n",
      "Epoch   0 Batch   80/269 - Train Accuracy: 0.4524, Validation Accuracy: 0.4765, Loss: 1.7937\n",
      "Epoch   0 Batch   85/269 - Train Accuracy: 0.4823, Validation Accuracy: 0.5168, Loss: 1.7145\n",
      "Epoch   0 Batch   90/269 - Train Accuracy: 0.4227, Validation Accuracy: 0.5001, Loss: 1.7423\n",
      "Epoch   0 Batch   95/269 - Train Accuracy: 0.4560, Validation Accuracy: 0.4843, Loss: 1.5796\n",
      "Epoch   0 Batch  100/269 - Train Accuracy: 0.4937, Validation Accuracy: 0.5046, Loss: 1.4999\n",
      "Epoch   0 Batch  105/269 - Train Accuracy: 0.4523, Validation Accuracy: 0.4891, Loss: 1.5147\n",
      "Epoch   0 Batch  110/269 - Train Accuracy: 0.4766, Validation Accuracy: 0.5096, Loss: 1.4614\n",
      "Epoch   0 Batch  115/269 - Train Accuracy: 0.4314, Validation Accuracy: 0.4922, Loss: 1.4635\n",
      "Epoch   0 Batch  120/269 - Train Accuracy: 0.4663, Validation Accuracy: 0.5148, Loss: 1.4404\n",
      "Epoch   0 Batch  125/269 - Train Accuracy: 0.4399, Validation Accuracy: 0.4770, Loss: 1.3309\n",
      "Epoch   0 Batch  130/269 - Train Accuracy: 0.4144, Validation Accuracy: 0.4776, Loss: 1.4151\n",
      "Epoch   0 Batch  135/269 - Train Accuracy: 0.4487, Validation Accuracy: 0.5080, Loss: 1.3925\n",
      "Epoch   0 Batch  140/269 - Train Accuracy: 0.5068, Validation Accuracy: 0.5239, Loss: 1.2720\n",
      "Epoch   0 Batch  145/269 - Train Accuracy: 0.5100, Validation Accuracy: 0.5417, Loss: 1.2466\n",
      "Epoch   0 Batch  150/269 - Train Accuracy: 0.5028, Validation Accuracy: 0.5194, Loss: 1.2255\n",
      "Epoch   0 Batch  155/269 - Train Accuracy: 0.5241, Validation Accuracy: 0.5218, Loss: 1.1338\n",
      "Epoch   0 Batch  160/269 - Train Accuracy: 0.4837, Validation Accuracy: 0.5059, Loss: 1.1603\n",
      "Epoch   0 Batch  165/269 - Train Accuracy: 0.4671, Validation Accuracy: 0.5219, Loss: 1.1582\n",
      "Epoch   0 Batch  170/269 - Train Accuracy: 0.5140, Validation Accuracy: 0.5382, Loss: 1.1024\n",
      "Epoch   0 Batch  175/269 - Train Accuracy: 0.4891, Validation Accuracy: 0.5162, Loss: 1.0803\n",
      "Epoch   0 Batch  180/269 - Train Accuracy: 0.5273, Validation Accuracy: 0.5449, Loss: 1.0259\n",
      "Epoch   0 Batch  185/269 - Train Accuracy: 0.5175, Validation Accuracy: 0.5373, Loss: 1.0082\n",
      "Epoch   0 Batch  190/269 - Train Accuracy: 0.5410, Validation Accuracy: 0.5653, Loss: 0.9771\n",
      "Epoch   0 Batch  195/269 - Train Accuracy: 0.5278, Validation Accuracy: 0.5419, Loss: 0.9776\n",
      "Epoch   0 Batch  200/269 - Train Accuracy: 0.5293, Validation Accuracy: 0.5567, Loss: 0.9732\n",
      "Epoch   0 Batch  205/269 - Train Accuracy: 0.5400, Validation Accuracy: 0.5700, Loss: 0.9157\n",
      "Epoch   0 Batch  210/269 - Train Accuracy: 0.5463, Validation Accuracy: 0.5598, Loss: 0.8948\n",
      "Epoch   0 Batch  215/269 - Train Accuracy: 0.5756, Validation Accuracy: 0.5625, Loss: 0.8346\n",
      "Epoch   0 Batch  220/269 - Train Accuracy: 0.5565, Validation Accuracy: 0.5690, Loss: 0.8313\n",
      "Epoch   0 Batch  225/269 - Train Accuracy: 0.5662, Validation Accuracy: 0.5811, Loss: 0.8731\n",
      "Epoch   0 Batch  230/269 - Train Accuracy: 0.5578, Validation Accuracy: 0.5749, Loss: 0.8414\n",
      "Epoch   0 Batch  235/269 - Train Accuracy: 0.5870, Validation Accuracy: 0.5889, Loss: 0.8138\n",
      "Epoch   0 Batch  240/269 - Train Accuracy: 0.6093, Validation Accuracy: 0.5799, Loss: 0.7413\n",
      "Epoch   0 Batch  245/269 - Train Accuracy: 0.5803, Validation Accuracy: 0.5953, Loss: 0.8405\n",
      "Epoch   0 Batch  250/269 - Train Accuracy: 0.5770, Validation Accuracy: 0.6034, Loss: 0.7993\n",
      "Epoch   0 Batch  255/269 - Train Accuracy: 0.6133, Validation Accuracy: 0.5938, Loss: 0.7344\n",
      "Epoch   0 Batch  260/269 - Train Accuracy: 0.5772, Validation Accuracy: 0.5918, Loss: 0.7947\n",
      "Epoch   0 Batch  265/269 - Train Accuracy: 0.5863, Validation Accuracy: 0.6132, Loss: 0.7715\n",
      "Epoch   1 Batch    5/269 - Train Accuracy: 0.5843, Validation Accuracy: 0.6088, Loss: 0.7608\n",
      "Epoch   1 Batch   10/269 - Train Accuracy: 0.5942, Validation Accuracy: 0.6159, Loss: 0.7298\n",
      "Epoch   1 Batch   15/269 - Train Accuracy: 0.6086, Validation Accuracy: 0.6162, Loss: 0.7003\n",
      "Epoch   1 Batch   20/269 - Train Accuracy: 0.6146, Validation Accuracy: 0.6249, Loss: 0.7268\n",
      "Epoch   1 Batch   25/269 - Train Accuracy: 0.5955, Validation Accuracy: 0.6271, Loss: 0.7299\n",
      "Epoch   1 Batch   30/269 - Train Accuracy: 0.6063, Validation Accuracy: 0.6038, Loss: 0.6704\n",
      "Epoch   1 Batch   35/269 - Train Accuracy: 0.6249, Validation Accuracy: 0.6275, Loss: 0.6728\n",
      "Epoch   1 Batch   40/269 - Train Accuracy: 0.6182, Validation Accuracy: 0.6325, Loss: 0.6804\n",
      "Epoch   1 Batch   45/269 - Train Accuracy: 0.6045, Validation Accuracy: 0.6246, Loss: 0.6749\n",
      "Epoch   1 Batch   50/269 - Train Accuracy: 0.6246, Validation Accuracy: 0.6390, Loss: 0.6647\n",
      "Epoch   1 Batch   55/269 - Train Accuracy: 0.6346, Validation Accuracy: 0.6336, Loss: 0.6216\n",
      "Epoch   1 Batch   60/269 - Train Accuracy: 0.6393, Validation Accuracy: 0.6366, Loss: 0.5870\n",
      "Epoch   1 Batch   65/269 - Train Accuracy: 0.6272, Validation Accuracy: 0.6404, Loss: 0.5980\n",
      "Epoch   1 Batch   70/269 - Train Accuracy: 0.6574, Validation Accuracy: 0.6380, Loss: 0.6031\n",
      "Epoch   1 Batch   75/269 - Train Accuracy: 0.6444, Validation Accuracy: 0.6393, Loss: 0.5832\n",
      "Epoch   1 Batch   80/269 - Train Accuracy: 0.6546, Validation Accuracy: 0.6459, Loss: 0.5768\n",
      "Epoch   1 Batch   85/269 - Train Accuracy: 0.6305, Validation Accuracy: 0.6228, Loss: 0.5872\n",
      "Epoch   1 Batch   90/269 - Train Accuracy: 0.6105, Validation Accuracy: 0.6522, Loss: 0.6133\n",
      "Epoch   1 Batch   95/269 - Train Accuracy: 0.6541, Validation Accuracy: 0.6665, Loss: 0.5668\n",
      "Epoch   1 Batch  100/269 - Train Accuracy: 0.6701, Validation Accuracy: 0.6587, Loss: 0.5516\n",
      "Epoch   1 Batch  105/269 - Train Accuracy: 0.6473, Validation Accuracy: 0.6530, Loss: 0.5603\n",
      "Epoch   1 Batch  110/269 - Train Accuracy: 0.6539, Validation Accuracy: 0.6608, Loss: 0.5319\n",
      "Epoch   1 Batch  115/269 - Train Accuracy: 0.6529, Validation Accuracy: 0.6763, Loss: 0.5513\n",
      "Epoch   1 Batch  120/269 - Train Accuracy: 0.6521, Validation Accuracy: 0.6663, Loss: 0.5401\n",
      "Epoch   1 Batch  125/269 - Train Accuracy: 0.6766, Validation Accuracy: 0.6610, Loss: 0.5111\n",
      "Epoch   1 Batch  130/269 - Train Accuracy: 0.6708, Validation Accuracy: 0.6828, Loss: 0.5276\n",
      "Epoch   1 Batch  135/269 - Train Accuracy: 0.6496, Validation Accuracy: 0.6791, Loss: 0.5410\n",
      "Epoch   1 Batch  140/269 - Train Accuracy: 0.6859, Validation Accuracy: 0.6793, Loss: 0.5094\n",
      "Epoch   1 Batch  145/269 - Train Accuracy: 0.6937, Validation Accuracy: 0.6775, Loss: 0.4826\n",
      "Epoch   1 Batch  150/269 - Train Accuracy: 0.6970, Validation Accuracy: 0.6900, Loss: 0.4908\n",
      "Epoch   1 Batch  155/269 - Train Accuracy: 0.7100, Validation Accuracy: 0.6872, Loss: 0.4516\n",
      "Epoch   1 Batch  160/269 - Train Accuracy: 0.7116, Validation Accuracy: 0.7037, Loss: 0.4658\n",
      "Epoch   1 Batch  165/269 - Train Accuracy: 0.6858, Validation Accuracy: 0.7037, Loss: 0.4818\n",
      "Epoch   1 Batch  170/269 - Train Accuracy: 0.6906, Validation Accuracy: 0.7014, Loss: 0.4574\n",
      "Epoch   1 Batch  175/269 - Train Accuracy: 0.7153, Validation Accuracy: 0.7163, Loss: 0.4751\n",
      "Epoch   1 Batch  180/269 - Train Accuracy: 0.7209, Validation Accuracy: 0.7126, Loss: 0.4443\n"
     ]
    },
    {
     "name": "stdout",
     "output_type": "stream",
     "text": [
      "Epoch   1 Batch  185/269 - Train Accuracy: 0.7273, Validation Accuracy: 0.7213, Loss: 0.4330\n",
      "Epoch   1 Batch  190/269 - Train Accuracy: 0.7245, Validation Accuracy: 0.7178, Loss: 0.4205\n",
      "Epoch   1 Batch  195/269 - Train Accuracy: 0.7173, Validation Accuracy: 0.6939, Loss: 0.4326\n",
      "Epoch   1 Batch  200/269 - Train Accuracy: 0.6976, Validation Accuracy: 0.7026, Loss: 0.4394\n",
      "Epoch   1 Batch  205/269 - Train Accuracy: 0.7267, Validation Accuracy: 0.7219, Loss: 0.4143\n",
      "Epoch   1 Batch  210/269 - Train Accuracy: 0.7454, Validation Accuracy: 0.7425, Loss: 0.4002\n",
      "Epoch   1 Batch  215/269 - Train Accuracy: 0.7529, Validation Accuracy: 0.7259, Loss: 0.3824\n",
      "Epoch   1 Batch  220/269 - Train Accuracy: 0.7595, Validation Accuracy: 0.7510, Loss: 0.3802\n",
      "Epoch   1 Batch  225/269 - Train Accuracy: 0.7501, Validation Accuracy: 0.7402, Loss: 0.3938\n",
      "Epoch   1 Batch  230/269 - Train Accuracy: 0.7328, Validation Accuracy: 0.7216, Loss: 0.3859\n",
      "Epoch   1 Batch  235/269 - Train Accuracy: 0.7578, Validation Accuracy: 0.7487, Loss: 0.3719\n",
      "Epoch   1 Batch  240/269 - Train Accuracy: 0.7790, Validation Accuracy: 0.7624, Loss: 0.3377\n",
      "Epoch   1 Batch  245/269 - Train Accuracy: 0.7433, Validation Accuracy: 0.7527, Loss: 0.3867\n",
      "Epoch   1 Batch  250/269 - Train Accuracy: 0.7589, Validation Accuracy: 0.7577, Loss: 0.3617\n",
      "Epoch   1 Batch  255/269 - Train Accuracy: 0.7860, Validation Accuracy: 0.7773, Loss: 0.3406\n",
      "Epoch   1 Batch  260/269 - Train Accuracy: 0.7580, Validation Accuracy: 0.7734, Loss: 0.3611\n",
      "Epoch   1 Batch  265/269 - Train Accuracy: 0.7614, Validation Accuracy: 0.7646, Loss: 0.3564\n",
      "Epoch   2 Batch    5/269 - Train Accuracy: 0.7604, Validation Accuracy: 0.7964, Loss: 0.3532\n",
      "Epoch   2 Batch   10/269 - Train Accuracy: 0.8056, Validation Accuracy: 0.7869, Loss: 0.3291\n",
      "Epoch   2 Batch   15/269 - Train Accuracy: 0.7901, Validation Accuracy: 0.7918, Loss: 0.3059\n",
      "Epoch   2 Batch   20/269 - Train Accuracy: 0.8048, Validation Accuracy: 0.8003, Loss: 0.3134\n",
      "Epoch   2 Batch   25/269 - Train Accuracy: 0.8024, Validation Accuracy: 0.7938, Loss: 0.3254\n",
      "Epoch   2 Batch   30/269 - Train Accuracy: 0.8148, Validation Accuracy: 0.8191, Loss: 0.2943\n",
      "Epoch   2 Batch   35/269 - Train Accuracy: 0.7989, Validation Accuracy: 0.8088, Loss: 0.2983\n",
      "Epoch   2 Batch   40/269 - Train Accuracy: 0.7970, Validation Accuracy: 0.8061, Loss: 0.2941\n",
      "Epoch   2 Batch   45/269 - Train Accuracy: 0.7960, Validation Accuracy: 0.8237, Loss: 0.2891\n",
      "Epoch   2 Batch   50/269 - Train Accuracy: 0.7902, Validation Accuracy: 0.8220, Loss: 0.2942\n",
      "Epoch   2 Batch   55/269 - Train Accuracy: 0.8305, Validation Accuracy: 0.8287, Loss: 0.2639\n",
      "Epoch   2 Batch   60/269 - Train Accuracy: 0.8391, Validation Accuracy: 0.8289, Loss: 0.2437\n",
      "Epoch   2 Batch   65/269 - Train Accuracy: 0.8195, Validation Accuracy: 0.8163, Loss: 0.2478\n",
      "Epoch   2 Batch   70/269 - Train Accuracy: 0.8433, Validation Accuracy: 0.8337, Loss: 0.2516\n",
      "Epoch   2 Batch   75/269 - Train Accuracy: 0.8332, Validation Accuracy: 0.8439, Loss: 0.2454\n",
      "Epoch   2 Batch   80/269 - Train Accuracy: 0.8462, Validation Accuracy: 0.8311, Loss: 0.2330\n",
      "Epoch   2 Batch   85/269 - Train Accuracy: 0.8466, Validation Accuracy: 0.8300, Loss: 0.2329\n",
      "Epoch   2 Batch   90/269 - Train Accuracy: 0.8087, Validation Accuracy: 0.8233, Loss: 0.2467\n",
      "Epoch   2 Batch   95/269 - Train Accuracy: 0.8416, Validation Accuracy: 0.8406, Loss: 0.2233\n",
      "Epoch   2 Batch  100/269 - Train Accuracy: 0.8605, Validation Accuracy: 0.8453, Loss: 0.2128\n",
      "Epoch   2 Batch  105/269 - Train Accuracy: 0.8379, Validation Accuracy: 0.8572, Loss: 0.2128\n",
      "Epoch   2 Batch  110/269 - Train Accuracy: 0.8493, Validation Accuracy: 0.8525, Loss: 0.2024\n",
      "Epoch   2 Batch  115/269 - Train Accuracy: 0.8462, Validation Accuracy: 0.8554, Loss: 0.2014\n",
      "Epoch   2 Batch  120/269 - Train Accuracy: 0.8557, Validation Accuracy: 0.8645, Loss: 0.2018\n",
      "Epoch   2 Batch  125/269 - Train Accuracy: 0.8821, Validation Accuracy: 0.8590, Loss: 0.1806\n",
      "Epoch   2 Batch  130/269 - Train Accuracy: 0.8665, Validation Accuracy: 0.8705, Loss: 0.1964\n",
      "Epoch   2 Batch  135/269 - Train Accuracy: 0.8594, Validation Accuracy: 0.8617, Loss: 0.1984\n",
      "Epoch   2 Batch  140/269 - Train Accuracy: 0.8618, Validation Accuracy: 0.8684, Loss: 0.1930\n",
      "Epoch   2 Batch  145/269 - Train Accuracy: 0.8713, Validation Accuracy: 0.8645, Loss: 0.1693\n",
      "Epoch   2 Batch  150/269 - Train Accuracy: 0.8682, Validation Accuracy: 0.8698, Loss: 0.1707\n",
      "Epoch   2 Batch  155/269 - Train Accuracy: 0.8750, Validation Accuracy: 0.8704, Loss: 0.1613\n",
      "Epoch   2 Batch  160/269 - Train Accuracy: 0.8846, Validation Accuracy: 0.8801, Loss: 0.1673\n",
      "Epoch   2 Batch  165/269 - Train Accuracy: 0.8807, Validation Accuracy: 0.8762, Loss: 0.1587\n",
      "Epoch   2 Batch  170/269 - Train Accuracy: 0.8753, Validation Accuracy: 0.8826, Loss: 0.1548\n",
      "Epoch   2 Batch  175/269 - Train Accuracy: 0.8708, Validation Accuracy: 0.8750, Loss: 0.1663\n",
      "Epoch   2 Batch  180/269 - Train Accuracy: 0.8976, Validation Accuracy: 0.8835, Loss: 0.1413\n",
      "Epoch   2 Batch  185/269 - Train Accuracy: 0.9025, Validation Accuracy: 0.8783, Loss: 0.1446\n",
      "Epoch   2 Batch  190/269 - Train Accuracy: 0.9014, Validation Accuracy: 0.8942, Loss: 0.1329\n",
      "Epoch   2 Batch  195/269 - Train Accuracy: 0.8903, Validation Accuracy: 0.8944, Loss: 0.1390\n",
      "Epoch   2 Batch  200/269 - Train Accuracy: 0.8830, Validation Accuracy: 0.8827, Loss: 0.1396\n",
      "Epoch   2 Batch  205/269 - Train Accuracy: 0.8902, Validation Accuracy: 0.8893, Loss: 0.1341\n",
      "Epoch   2 Batch  210/269 - Train Accuracy: 0.9079, Validation Accuracy: 0.8973, Loss: 0.1236\n",
      "Epoch   2 Batch  215/269 - Train Accuracy: 0.8950, Validation Accuracy: 0.8941, Loss: 0.1223\n",
      "Epoch   2 Batch  220/269 - Train Accuracy: 0.9083, Validation Accuracy: 0.8837, Loss: 0.1210\n",
      "Epoch   2 Batch  225/269 - Train Accuracy: 0.8985, Validation Accuracy: 0.8784, Loss: 0.1192\n",
      "Epoch   2 Batch  230/269 - Train Accuracy: 0.9039, Validation Accuracy: 0.8965, Loss: 0.1211\n",
      "Epoch   2 Batch  235/269 - Train Accuracy: 0.9061, Validation Accuracy: 0.9026, Loss: 0.1119\n",
      "Epoch   2 Batch  240/269 - Train Accuracy: 0.9207, Validation Accuracy: 0.8926, Loss: 0.1060\n",
      "Epoch   2 Batch  245/269 - Train Accuracy: 0.8936, Validation Accuracy: 0.8966, Loss: 0.1216\n",
      "Epoch   2 Batch  250/269 - Train Accuracy: 0.9096, Validation Accuracy: 0.9038, Loss: 0.1136\n",
      "Epoch   2 Batch  255/269 - Train Accuracy: 0.9003, Validation Accuracy: 0.9008, Loss: 0.1106\n",
      "Epoch   2 Batch  260/269 - Train Accuracy: 0.8869, Validation Accuracy: 0.9030, Loss: 0.1174\n",
      "Epoch   2 Batch  265/269 - Train Accuracy: 0.8961, Validation Accuracy: 0.9031, Loss: 0.1050\n",
      "Epoch   3 Batch    5/269 - Train Accuracy: 0.8959, Validation Accuracy: 0.9101, Loss: 0.1074\n",
      "Epoch   3 Batch   10/269 - Train Accuracy: 0.9208, Validation Accuracy: 0.9047, Loss: 0.0946\n",
      "Epoch   3 Batch   15/269 - Train Accuracy: 0.9032, Validation Accuracy: 0.9126, Loss: 0.0904\n",
      "Epoch   3 Batch   20/269 - Train Accuracy: 0.9140, Validation Accuracy: 0.9139, Loss: 0.0948\n",
      "Epoch   3 Batch   25/269 - Train Accuracy: 0.9017, Validation Accuracy: 0.9071, Loss: 0.1050\n",
      "Epoch   3 Batch   30/269 - Train Accuracy: 0.9154, Validation Accuracy: 0.9096, Loss: 0.0952\n",
      "Epoch   3 Batch   35/269 - Train Accuracy: 0.9059, Validation Accuracy: 0.9043, Loss: 0.1030\n",
      "Epoch   3 Batch   40/269 - Train Accuracy: 0.9043, Validation Accuracy: 0.9124, Loss: 0.0958\n",
      "Epoch   3 Batch   45/269 - Train Accuracy: 0.9189, Validation Accuracy: 0.9136, Loss: 0.0924\n",
      "Epoch   3 Batch   50/269 - Train Accuracy: 0.8930, Validation Accuracy: 0.9132, Loss: 0.0989\n",
      "Epoch   3 Batch   55/269 - Train Accuracy: 0.9165, Validation Accuracy: 0.9211, Loss: 0.0898\n",
      "Epoch   3 Batch   60/269 - Train Accuracy: 0.9254, Validation Accuracy: 0.9201, Loss: 0.0796\n",
      "Epoch   3 Batch   65/269 - Train Accuracy: 0.9081, Validation Accuracy: 0.9153, Loss: 0.0823\n",
      "Epoch   3 Batch   70/269 - Train Accuracy: 0.9055, Validation Accuracy: 0.9032, Loss: 0.0900\n",
      "Epoch   3 Batch   75/269 - Train Accuracy: 0.9206, Validation Accuracy: 0.9207, Loss: 0.0859\n",
      "Epoch   3 Batch   80/269 - Train Accuracy: 0.9240, Validation Accuracy: 0.9141, Loss: 0.0810\n",
      "Epoch   3 Batch   85/269 - Train Accuracy: 0.9120, Validation Accuracy: 0.9070, Loss: 0.0815\n",
      "Epoch   3 Batch   90/269 - Train Accuracy: 0.9183, Validation Accuracy: 0.9152, Loss: 0.0863\n",
      "Epoch   3 Batch   95/269 - Train Accuracy: 0.9218, Validation Accuracy: 0.9222, Loss: 0.0791\n"
     ]
    },
    {
     "name": "stdout",
     "output_type": "stream",
     "text": [
      "Epoch   3 Batch  100/269 - Train Accuracy: 0.9216, Validation Accuracy: 0.9091, Loss: 0.0812\n",
      "Epoch   3 Batch  105/269 - Train Accuracy: 0.9084, Validation Accuracy: 0.9214, Loss: 0.0815\n",
      "Epoch   3 Batch  110/269 - Train Accuracy: 0.9090, Validation Accuracy: 0.9132, Loss: 0.0747\n",
      "Epoch   3 Batch  115/269 - Train Accuracy: 0.9146, Validation Accuracy: 0.9161, Loss: 0.0735\n",
      "Epoch   3 Batch  120/269 - Train Accuracy: 0.9274, Validation Accuracy: 0.9168, Loss: 0.0778\n",
      "Epoch   3 Batch  125/269 - Train Accuracy: 0.9245, Validation Accuracy: 0.9229, Loss: 0.0689\n",
      "Epoch   3 Batch  130/269 - Train Accuracy: 0.9282, Validation Accuracy: 0.9181, Loss: 0.0794\n",
      "Epoch   3 Batch  135/269 - Train Accuracy: 0.9184, Validation Accuracy: 0.9186, Loss: 0.0770\n",
      "Epoch   3 Batch  140/269 - Train Accuracy: 0.9185, Validation Accuracy: 0.9267, Loss: 0.0811\n",
      "Epoch   3 Batch  145/269 - Train Accuracy: 0.9270, Validation Accuracy: 0.9246, Loss: 0.0697\n",
      "Epoch   3 Batch  150/269 - Train Accuracy: 0.9169, Validation Accuracy: 0.9188, Loss: 0.0731\n",
      "Epoch   3 Batch  155/269 - Train Accuracy: 0.9167, Validation Accuracy: 0.9189, Loss: 0.0686\n",
      "Epoch   3 Batch  160/269 - Train Accuracy: 0.9192, Validation Accuracy: 0.9252, Loss: 0.0696\n",
      "Epoch   3 Batch  165/269 - Train Accuracy: 0.9234, Validation Accuracy: 0.9148, Loss: 0.0661\n",
      "Epoch   3 Batch  170/269 - Train Accuracy: 0.9119, Validation Accuracy: 0.9227, Loss: 0.0668\n",
      "Epoch   3 Batch  175/269 - Train Accuracy: 0.9052, Validation Accuracy: 0.9221, Loss: 0.0810\n",
      "Epoch   3 Batch  180/269 - Train Accuracy: 0.9273, Validation Accuracy: 0.9324, Loss: 0.0625\n",
      "Epoch   3 Batch  185/269 - Train Accuracy: 0.9388, Validation Accuracy: 0.9237, Loss: 0.0653\n",
      "Epoch   3 Batch  190/269 - Train Accuracy: 0.9250, Validation Accuracy: 0.9294, Loss: 0.0618\n",
      "Epoch   3 Batch  195/269 - Train Accuracy: 0.9195, Validation Accuracy: 0.9308, Loss: 0.0641\n",
      "Epoch   3 Batch  200/269 - Train Accuracy: 0.9228, Validation Accuracy: 0.9303, Loss: 0.0638\n",
      "Epoch   3 Batch  205/269 - Train Accuracy: 0.9283, Validation Accuracy: 0.9287, Loss: 0.0643\n",
      "Epoch   3 Batch  210/269 - Train Accuracy: 0.9309, Validation Accuracy: 0.9278, Loss: 0.0593\n",
      "Epoch   3 Batch  215/269 - Train Accuracy: 0.9245, Validation Accuracy: 0.9315, Loss: 0.0630\n",
      "Epoch   3 Batch  220/269 - Train Accuracy: 0.9244, Validation Accuracy: 0.9318, Loss: 0.0584\n",
      "Epoch   3 Batch  225/269 - Train Accuracy: 0.9260, Validation Accuracy: 0.9315, Loss: 0.0575\n",
      "Epoch   3 Batch  230/269 - Train Accuracy: 0.9338, Validation Accuracy: 0.9371, Loss: 0.0620\n",
      "Epoch   3 Batch  235/269 - Train Accuracy: 0.9396, Validation Accuracy: 0.9313, Loss: 0.0532\n",
      "Epoch   3 Batch  240/269 - Train Accuracy: 0.9417, Validation Accuracy: 0.9373, Loss: 0.0543\n",
      "Epoch   3 Batch  245/269 - Train Accuracy: 0.9127, Validation Accuracy: 0.9339, Loss: 0.0608\n",
      "Epoch   3 Batch  250/269 - Train Accuracy: 0.9393, Validation Accuracy: 0.9331, Loss: 0.0564\n",
      "Epoch   3 Batch  255/269 - Train Accuracy: 0.9229, Validation Accuracy: 0.9406, Loss: 0.0587\n",
      "Epoch   3 Batch  260/269 - Train Accuracy: 0.9205, Validation Accuracy: 0.9231, Loss: 0.0615\n",
      "Epoch   3 Batch  265/269 - Train Accuracy: 0.9277, Validation Accuracy: 0.9408, Loss: 0.0582\n",
      "Epoch   4 Batch    5/269 - Train Accuracy: 0.9285, Validation Accuracy: 0.9244, Loss: 0.0581\n",
      "Epoch   4 Batch   10/269 - Train Accuracy: 0.9318, Validation Accuracy: 0.9334, Loss: 0.0487\n",
      "Epoch   4 Batch   15/269 - Train Accuracy: 0.9386, Validation Accuracy: 0.9395, Loss: 0.0469\n",
      "Epoch   4 Batch   20/269 - Train Accuracy: 0.9370, Validation Accuracy: 0.9331, Loss: 0.0510\n",
      "Epoch   4 Batch   25/269 - Train Accuracy: 0.9249, Validation Accuracy: 0.9311, Loss: 0.0625\n",
      "Epoch   4 Batch   30/269 - Train Accuracy: 0.9377, Validation Accuracy: 0.9327, Loss: 0.0552\n",
      "Epoch   4 Batch   35/269 - Train Accuracy: 0.9376, Validation Accuracy: 0.9345, Loss: 0.0617\n",
      "Epoch   4 Batch   40/269 - Train Accuracy: 0.9183, Validation Accuracy: 0.9350, Loss: 0.0582\n",
      "Epoch   4 Batch   45/269 - Train Accuracy: 0.9340, Validation Accuracy: 0.9356, Loss: 0.0544\n",
      "Epoch   4 Batch   50/269 - Train Accuracy: 0.9196, Validation Accuracy: 0.9412, Loss: 0.0572\n",
      "Epoch   4 Batch   55/269 - Train Accuracy: 0.9352, Validation Accuracy: 0.9370, Loss: 0.0523\n",
      "Epoch   4 Batch   60/269 - Train Accuracy: 0.9405, Validation Accuracy: 0.9397, Loss: 0.0470\n",
      "Epoch   4 Batch   65/269 - Train Accuracy: 0.9328, Validation Accuracy: 0.9302, Loss: 0.0475\n",
      "Epoch   4 Batch   70/269 - Train Accuracy: 0.9362, Validation Accuracy: 0.9321, Loss: 0.0550\n",
      "Epoch   4 Batch   75/269 - Train Accuracy: 0.9421, Validation Accuracy: 0.9371, Loss: 0.0519\n",
      "Epoch   4 Batch   80/269 - Train Accuracy: 0.9477, Validation Accuracy: 0.9420, Loss: 0.0498\n",
      "Epoch   4 Batch   85/269 - Train Accuracy: 0.9321, Validation Accuracy: 0.9385, Loss: 0.0515\n",
      "Epoch   4 Batch   90/269 - Train Accuracy: 0.9347, Validation Accuracy: 0.9330, Loss: 0.0528\n",
      "Epoch   4 Batch   95/269 - Train Accuracy: 0.9358, Validation Accuracy: 0.9343, Loss: 0.0464\n",
      "Epoch   4 Batch  100/269 - Train Accuracy: 0.9432, Validation Accuracy: 0.9351, Loss: 0.0504\n",
      "Epoch   4 Batch  105/269 - Train Accuracy: 0.9312, Validation Accuracy: 0.9420, Loss: 0.0504\n",
      "Epoch   4 Batch  110/269 - Train Accuracy: 0.9311, Validation Accuracy: 0.9453, Loss: 0.0454\n",
      "Epoch   4 Batch  115/269 - Train Accuracy: 0.9327, Validation Accuracy: 0.9312, Loss: 0.0469\n",
      "Epoch   4 Batch  120/269 - Train Accuracy: 0.9517, Validation Accuracy: 0.9418, Loss: 0.0496\n",
      "Epoch   4 Batch  125/269 - Train Accuracy: 0.9406, Validation Accuracy: 0.9462, Loss: 0.0416\n",
      "Epoch   4 Batch  130/269 - Train Accuracy: 0.9432, Validation Accuracy: 0.9436, Loss: 0.0488\n",
      "Epoch   4 Batch  135/269 - Train Accuracy: 0.9334, Validation Accuracy: 0.9403, Loss: 0.0476\n",
      "Epoch   4 Batch  140/269 - Train Accuracy: 0.9425, Validation Accuracy: 0.9512, Loss: 0.0493\n",
      "Epoch   4 Batch  145/269 - Train Accuracy: 0.9407, Validation Accuracy: 0.9476, Loss: 0.0429\n",
      "Epoch   4 Batch  150/269 - Train Accuracy: 0.9290, Validation Accuracy: 0.9439, Loss: 0.0485\n",
      "Epoch   4 Batch  155/269 - Train Accuracy: 0.9373, Validation Accuracy: 0.9420, Loss: 0.0426\n",
      "Epoch   4 Batch  160/269 - Train Accuracy: 0.9395, Validation Accuracy: 0.9460, Loss: 0.0456\n",
      "Epoch   4 Batch  165/269 - Train Accuracy: 0.9469, Validation Accuracy: 0.9481, Loss: 0.0429\n",
      "Epoch   4 Batch  170/269 - Train Accuracy: 0.9401, Validation Accuracy: 0.9525, Loss: 0.0417\n",
      "Epoch   4 Batch  175/269 - Train Accuracy: 0.9308, Validation Accuracy: 0.9513, Loss: 0.0554\n",
      "Epoch   4 Batch  180/269 - Train Accuracy: 0.9489, Validation Accuracy: 0.9425, Loss: 0.0420\n",
      "Epoch   4 Batch  185/269 - Train Accuracy: 0.9481, Validation Accuracy: 0.9491, Loss: 0.0424\n",
      "Epoch   4 Batch  190/269 - Train Accuracy: 0.9508, Validation Accuracy: 0.9456, Loss: 0.0398\n",
      "Epoch   4 Batch  195/269 - Train Accuracy: 0.9408, Validation Accuracy: 0.9429, Loss: 0.0417\n",
      "Epoch   4 Batch  200/269 - Train Accuracy: 0.9411, Validation Accuracy: 0.9434, Loss: 0.0410\n",
      "Epoch   4 Batch  205/269 - Train Accuracy: 0.9469, Validation Accuracy: 0.9465, Loss: 0.0426\n",
      "Epoch   4 Batch  210/269 - Train Accuracy: 0.9381, Validation Accuracy: 0.9389, Loss: 0.0399\n",
      "Epoch   4 Batch  215/269 - Train Accuracy: 0.9431, Validation Accuracy: 0.9466, Loss: 0.0424\n",
      "Epoch   4 Batch  220/269 - Train Accuracy: 0.9426, Validation Accuracy: 0.9461, Loss: 0.0390\n",
      "Epoch   4 Batch  225/269 - Train Accuracy: 0.9433, Validation Accuracy: 0.9429, Loss: 0.0383\n",
      "Epoch   4 Batch  230/269 - Train Accuracy: 0.9507, Validation Accuracy: 0.9446, Loss: 0.0427\n",
      "Epoch   4 Batch  235/269 - Train Accuracy: 0.9617, Validation Accuracy: 0.9496, Loss: 0.0364\n",
      "Epoch   4 Batch  240/269 - Train Accuracy: 0.9487, Validation Accuracy: 0.9521, Loss: 0.0390\n",
      "Epoch   4 Batch  245/269 - Train Accuracy: 0.9303, Validation Accuracy: 0.9492, Loss: 0.0419\n",
      "Epoch   4 Batch  250/269 - Train Accuracy: 0.9563, Validation Accuracy: 0.9550, Loss: 0.0399\n",
      "Epoch   4 Batch  255/269 - Train Accuracy: 0.9392, Validation Accuracy: 0.9500, Loss: 0.0406\n",
      "Epoch   4 Batch  260/269 - Train Accuracy: 0.9429, Validation Accuracy: 0.9400, Loss: 0.0430\n",
      "Epoch   4 Batch  265/269 - Train Accuracy: 0.9387, Validation Accuracy: 0.9511, Loss: 0.0402\n",
      "Epoch   5 Batch    5/269 - Train Accuracy: 0.9450, Validation Accuracy: 0.9343, Loss: 0.0386\n",
      "Epoch   5 Batch   10/269 - Train Accuracy: 0.9490, Validation Accuracy: 0.9493, Loss: 0.0336\n"
     ]
    },
    {
     "name": "stdout",
     "output_type": "stream",
     "text": [
      "Epoch   5 Batch   15/269 - Train Accuracy: 0.9562, Validation Accuracy: 0.9524, Loss: 0.0313\n",
      "Epoch   5 Batch   20/269 - Train Accuracy: 0.9567, Validation Accuracy: 0.9518, Loss: 0.0342\n",
      "Epoch   5 Batch   25/269 - Train Accuracy: 0.9466, Validation Accuracy: 0.9440, Loss: 0.0395\n",
      "Epoch   5 Batch   30/269 - Train Accuracy: 0.9547, Validation Accuracy: 0.9396, Loss: 0.0385\n",
      "Epoch   5 Batch   35/269 - Train Accuracy: 0.9526, Validation Accuracy: 0.9490, Loss: 0.0437\n",
      "Epoch   5 Batch   40/269 - Train Accuracy: 0.9413, Validation Accuracy: 0.9521, Loss: 0.0410\n",
      "Epoch   5 Batch   45/269 - Train Accuracy: 0.9482, Validation Accuracy: 0.9457, Loss: 0.0388\n",
      "Epoch   5 Batch   50/269 - Train Accuracy: 0.9294, Validation Accuracy: 0.9448, Loss: 0.0413\n",
      "Epoch   5 Batch   55/269 - Train Accuracy: 0.9402, Validation Accuracy: 0.9373, Loss: 0.0374\n",
      "Epoch   5 Batch   60/269 - Train Accuracy: 0.9575, Validation Accuracy: 0.9520, Loss: 0.0339\n",
      "Epoch   5 Batch   65/269 - Train Accuracy: 0.9560, Validation Accuracy: 0.9537, Loss: 0.0343\n",
      "Epoch   5 Batch   70/269 - Train Accuracy: 0.9455, Validation Accuracy: 0.9506, Loss: 0.0417\n",
      "Epoch   5 Batch   75/269 - Train Accuracy: 0.9549, Validation Accuracy: 0.9543, Loss: 0.0374\n",
      "Epoch   5 Batch   80/269 - Train Accuracy: 0.9568, Validation Accuracy: 0.9513, Loss: 0.0377\n",
      "Epoch   5 Batch   85/269 - Train Accuracy: 0.9500, Validation Accuracy: 0.9480, Loss: 0.0380\n",
      "Epoch   5 Batch   90/269 - Train Accuracy: 0.9521, Validation Accuracy: 0.9570, Loss: 0.0372\n",
      "Epoch   5 Batch   95/269 - Train Accuracy: 0.9534, Validation Accuracy: 0.9626, Loss: 0.0350\n",
      "Epoch   5 Batch  100/269 - Train Accuracy: 0.9569, Validation Accuracy: 0.9466, Loss: 0.0356\n",
      "Epoch   5 Batch  105/269 - Train Accuracy: 0.9458, Validation Accuracy: 0.9589, Loss: 0.0362\n",
      "Epoch   5 Batch  110/269 - Train Accuracy: 0.9439, Validation Accuracy: 0.9537, Loss: 0.0315\n",
      "Epoch   5 Batch  115/269 - Train Accuracy: 0.9443, Validation Accuracy: 0.9552, Loss: 0.0355\n",
      "Epoch   5 Batch  120/269 - Train Accuracy: 0.9660, Validation Accuracy: 0.9542, Loss: 0.0352\n",
      "Epoch   5 Batch  125/269 - Train Accuracy: 0.9514, Validation Accuracy: 0.9524, Loss: 0.0311\n",
      "Epoch   5 Batch  130/269 - Train Accuracy: 0.9676, Validation Accuracy: 0.9527, Loss: 0.0357\n",
      "Epoch   5 Batch  135/269 - Train Accuracy: 0.9488, Validation Accuracy: 0.9498, Loss: 0.0346\n",
      "Epoch   5 Batch  140/269 - Train Accuracy: 0.9600, Validation Accuracy: 0.9613, Loss: 0.0357\n",
      "Epoch   5 Batch  145/269 - Train Accuracy: 0.9615, Validation Accuracy: 0.9594, Loss: 0.0308\n",
      "Epoch   5 Batch  150/269 - Train Accuracy: 0.9493, Validation Accuracy: 0.9584, Loss: 0.0354\n",
      "Epoch   5 Batch  155/269 - Train Accuracy: 0.9538, Validation Accuracy: 0.9538, Loss: 0.0333\n",
      "Epoch   5 Batch  160/269 - Train Accuracy: 0.9551, Validation Accuracy: 0.9572, Loss: 0.0331\n",
      "Epoch   5 Batch  165/269 - Train Accuracy: 0.9562, Validation Accuracy: 0.9503, Loss: 0.0306\n",
      "Epoch   5 Batch  170/269 - Train Accuracy: 0.9482, Validation Accuracy: 0.9616, Loss: 0.0313\n",
      "Epoch   5 Batch  175/269 - Train Accuracy: 0.9455, Validation Accuracy: 0.9566, Loss: 0.0428\n",
      "Epoch   5 Batch  180/269 - Train Accuracy: 0.9624, Validation Accuracy: 0.9530, Loss: 0.0301\n",
      "Epoch   5 Batch  185/269 - Train Accuracy: 0.9654, Validation Accuracy: 0.9574, Loss: 0.0315\n",
      "Epoch   5 Batch  190/269 - Train Accuracy: 0.9651, Validation Accuracy: 0.9569, Loss: 0.0295\n",
      "Epoch   5 Batch  195/269 - Train Accuracy: 0.9531, Validation Accuracy: 0.9472, Loss: 0.0293\n",
      "Epoch   5 Batch  200/269 - Train Accuracy: 0.9561, Validation Accuracy: 0.9482, Loss: 0.0299\n",
      "Epoch   5 Batch  205/269 - Train Accuracy: 0.9599, Validation Accuracy: 0.9559, Loss: 0.0322\n",
      "Epoch   5 Batch  210/269 - Train Accuracy: 0.9590, Validation Accuracy: 0.9573, Loss: 0.0291\n",
      "Epoch   5 Batch  215/269 - Train Accuracy: 0.9517, Validation Accuracy: 0.9545, Loss: 0.0308\n",
      "Epoch   5 Batch  220/269 - Train Accuracy: 0.9579, Validation Accuracy: 0.9640, Loss: 0.0294\n",
      "Epoch   5 Batch  225/269 - Train Accuracy: 0.9570, Validation Accuracy: 0.9611, Loss: 0.0276\n",
      "Epoch   5 Batch  230/269 - Train Accuracy: 0.9551, Validation Accuracy: 0.9542, Loss: 0.0324\n",
      "Epoch   5 Batch  235/269 - Train Accuracy: 0.9748, Validation Accuracy: 0.9597, Loss: 0.0246\n",
      "Epoch   5 Batch  240/269 - Train Accuracy: 0.9664, Validation Accuracy: 0.9637, Loss: 0.0293\n",
      "Epoch   5 Batch  245/269 - Train Accuracy: 0.9501, Validation Accuracy: 0.9590, Loss: 0.0312\n",
      "Epoch   5 Batch  250/269 - Train Accuracy: 0.9645, Validation Accuracy: 0.9542, Loss: 0.0309\n",
      "Epoch   5 Batch  255/269 - Train Accuracy: 0.9545, Validation Accuracy: 0.9602, Loss: 0.0306\n",
      "Epoch   5 Batch  260/269 - Train Accuracy: 0.9627, Validation Accuracy: 0.9493, Loss: 0.0316\n",
      "Epoch   5 Batch  265/269 - Train Accuracy: 0.9501, Validation Accuracy: 0.9567, Loss: 0.0302\n",
      "Model Trained and Saved\n"
     ]
    }
   ],
   "source": [
    "\"\"\"\n",
    "DON'T MODIFY ANYTHING IN THIS CELL\n",
    "\"\"\"\n",
    "def get_accuracy(target, logits):\n",
    "    \"\"\"\n",
    "    Calculate accuracy\n",
    "    \"\"\"\n",
    "    max_seq = max(target.shape[1], logits.shape[1])\n",
    "    if max_seq - target.shape[1]:\n",
    "        target = np.pad(\n",
    "            target,\n",
    "            [(0,0),(0,max_seq - target.shape[1])],\n",
    "            'constant')\n",
    "    if max_seq - logits.shape[1]:\n",
    "        logits = np.pad(\n",
    "            logits,\n",
    "            [(0,0),(0,max_seq - logits.shape[1])],\n",
    "            'constant')\n",
    "\n",
    "    return np.mean(np.equal(target, logits))\n",
    "\n",
    "# Split data to training and validation sets\n",
    "train_source = source_int_text[batch_size:]\n",
    "train_target = target_int_text[batch_size:]\n",
    "valid_source = source_int_text[:batch_size]\n",
    "valid_target = target_int_text[:batch_size]\n",
    "(valid_sources_batch, valid_targets_batch, valid_sources_lengths, valid_targets_lengths ) = next(get_batches(valid_source,\n",
    "                                                                                                             valid_target,\n",
    "                                                                                                             batch_size,\n",
    "                                                                                                             source_vocab_to_int['<PAD>'],\n",
    "                                                                                                             target_vocab_to_int['<PAD>']))                                                                                                  \n",
    "with tf.Session(graph=train_graph) as sess:\n",
    "    sess.run(tf.global_variables_initializer())\n",
    "\n",
    "    for epoch_i in range(epochs):\n",
    "        for batch_i, (source_batch, target_batch, sources_lengths, targets_lengths) in enumerate(\n",
    "                get_batches(train_source, train_target, batch_size,\n",
    "                            source_vocab_to_int['<PAD>'],\n",
    "                            target_vocab_to_int['<PAD>'])):\n",
    "\n",
    "            _, loss = sess.run(\n",
    "                [train_op, cost],\n",
    "                {input_data: source_batch,\n",
    "                 targets: target_batch,\n",
    "                 lr: learning_rate,\n",
    "                 target_sequence_length: targets_lengths,\n",
    "                 source_sequence_length: sources_lengths,\n",
    "                 keep_prob: keep_probability})\n",
    "\n",
    "\n",
    "            if batch_i % display_step == 0 and batch_i > 0:\n",
    "\n",
    "\n",
    "                batch_train_logits = sess.run(\n",
    "                    inference_logits,\n",
    "                    {input_data: source_batch,\n",
    "                     source_sequence_length: sources_lengths,\n",
    "                     target_sequence_length: targets_lengths,\n",
    "                     keep_prob: 1.0})\n",
    "\n",
    "\n",
    "                batch_valid_logits = sess.run(\n",
    "                    inference_logits,\n",
    "                    {input_data: valid_sources_batch,\n",
    "                     source_sequence_length: valid_sources_lengths,\n",
    "                     target_sequence_length: valid_targets_lengths,\n",
    "                     keep_prob: 1.0})\n",
    "\n",
    "                train_acc = get_accuracy(target_batch, batch_train_logits)\n",
    "\n",
    "                valid_acc = get_accuracy(valid_targets_batch, batch_valid_logits)\n",
    "\n",
    "                print('Epoch {:>3} Batch {:>4}/{} - Train Accuracy: {:>6.4f}, Validation Accuracy: {:>6.4f}, Loss: {:>6.4f}'\n",
    "                      .format(epoch_i, batch_i, len(source_int_text) // batch_size, train_acc, valid_acc, loss))\n",
    "\n",
    "    # Save Model\n",
    "    saver = tf.train.Saver()\n",
    "    saver.save(sess, save_path)\n",
    "    print('Model Trained and Saved')"
   ]
  },
  {
   "cell_type": "markdown",
   "metadata": {},
   "source": [
    "### Save Parameters\n",
    "Save the `batch_size` and `save_path` parameters for inference."
   ]
  },
  {
   "cell_type": "code",
   "execution_count": 24,
   "metadata": {
    "collapsed": true
   },
   "outputs": [],
   "source": [
    "\"\"\"\n",
    "DON'T MODIFY ANYTHING IN THIS CELL\n",
    "\"\"\"\n",
    "# Save parameters for checkpoint\n",
    "helper.save_params(save_path)"
   ]
  },
  {
   "cell_type": "markdown",
   "metadata": {},
   "source": [
    "# Checkpoint"
   ]
  },
  {
   "cell_type": "code",
   "execution_count": 25,
   "metadata": {
    "collapsed": true
   },
   "outputs": [],
   "source": [
    "\"\"\"\n",
    "DON'T MODIFY ANYTHING IN THIS CELL\n",
    "\"\"\"\n",
    "import tensorflow as tf\n",
    "import numpy as np\n",
    "import helper\n",
    "import problem_unittests as tests\n",
    "\n",
    "_, (source_vocab_to_int, target_vocab_to_int), (source_int_to_vocab, target_int_to_vocab) = helper.load_preprocess()\n",
    "load_path = helper.load_params()"
   ]
  },
  {
   "cell_type": "markdown",
   "metadata": {},
   "source": [
    "## Sentence to Sequence\n",
    "To feed a sentence into the model for translation, you first need to preprocess it.  Implement the function `sentence_to_seq()` to preprocess new sentences.\n",
    "\n",
    "- Convert the sentence to lowercase\n",
    "- Convert words into ids using `vocab_to_int`\n",
    " - Convert words not in the vocabulary, to the `<UNK>` word id."
   ]
  },
  {
   "cell_type": "code",
   "execution_count": 33,
   "metadata": {},
   "outputs": [
    {
     "name": "stdout",
     "output_type": "stream",
     "text": [
      "Tests Passed\n"
     ]
    }
   ],
   "source": [
    "def sentence_to_seq(sentence, vocab_to_int):\n",
    "    \"\"\"\n",
    "    Convert a sentence to a sequence of ids\n",
    "    :param sentence: String\n",
    "    :param vocab_to_int: Dictionary to go from the words to an id\n",
    "    :return: List of word ids\n",
    "    \"\"\"\n",
    "    # TODO: Implement Function\n",
    "    sentence = sentence.lower()\n",
    "    ids = [(vocab_to_int[word] if word in vocab_to_int else vocab_to_int[\"<UNK>\"]) for word in sentence.split()]\n",
    "    return ids\n",
    "\n",
    "\n",
    "\"\"\"\n",
    "DON'T MODIFY ANYTHING IN THIS CELL THAT IS BELOW THIS LINE\n",
    "\"\"\"\n",
    "tests.test_sentence_to_seq(sentence_to_seq)"
   ]
  },
  {
   "cell_type": "markdown",
   "metadata": {},
   "source": [
    "## Translate\n",
    "This will translate `translate_sentence` from English to French."
   ]
  },
  {
   "cell_type": "code",
   "execution_count": 34,
   "metadata": {},
   "outputs": [
    {
     "name": "stdout",
     "output_type": "stream",
     "text": [
      "INFO:tensorflow:Restoring parameters from checkpoints/dev\n",
      "Input\n",
      "  Word Ids:      [120, 112, 59, 76, 111, 71, 193]\n",
      "  English Words: ['he', 'saw', 'a', 'old', 'yellow', 'truck', '.']\n",
      "\n",
      "Prediction\n",
      "  Word Ids:      [10, 301, 329, 126, 264, 138, 172, 177, 1]\n",
      "  French Words: il a conduit le portugais est difficile . <EOS>\n"
     ]
    }
   ],
   "source": [
    "translate_sentence = 'he saw a old yellow truck .'\n",
    "\n",
    "\n",
    "\"\"\"\n",
    "DON'T MODIFY ANYTHING IN THIS CELL\n",
    "\"\"\"\n",
    "translate_sentence = sentence_to_seq(translate_sentence, source_vocab_to_int)\n",
    "\n",
    "loaded_graph = tf.Graph()\n",
    "with tf.Session(graph=loaded_graph) as sess:\n",
    "    # Load saved model\n",
    "    loader = tf.train.import_meta_graph(load_path + '.meta')\n",
    "    loader.restore(sess, load_path)\n",
    "\n",
    "    input_data = loaded_graph.get_tensor_by_name('input:0')\n",
    "    logits = loaded_graph.get_tensor_by_name('predictions:0')\n",
    "    target_sequence_length = loaded_graph.get_tensor_by_name('target_sequence_length:0')\n",
    "    source_sequence_length = loaded_graph.get_tensor_by_name('source_sequence_length:0')\n",
    "    keep_prob = loaded_graph.get_tensor_by_name('keep_prob:0')\n",
    "\n",
    "    translate_logits = sess.run(logits, {input_data: [translate_sentence]*batch_size,\n",
    "                                         target_sequence_length: [len(translate_sentence)*2]*batch_size,\n",
    "                                         source_sequence_length: [len(translate_sentence)]*batch_size,\n",
    "                                         keep_prob: 1.0})[0]\n",
    "\n",
    "print('Input')\n",
    "print('  Word Ids:      {}'.format([i for i in translate_sentence]))\n",
    "print('  English Words: {}'.format([source_int_to_vocab[i] for i in translate_sentence]))\n",
    "\n",
    "print('\\nPrediction')\n",
    "print('  Word Ids:      {}'.format([i for i in translate_logits]))\n",
    "print('  French Words: {}'.format(\" \".join([target_int_to_vocab[i] for i in translate_logits])))\n"
   ]
  },
  {
   "cell_type": "markdown",
   "metadata": {},
   "source": [
    "## Imperfect Translation\n",
    "You might notice that some sentences translate better than others.  Since the dataset you're using only has a vocabulary of 227 English words of the thousands that you use, you're only going to see good results using these words.  For this project, you don't need a perfect translation. However, if you want to create a better translation model, you'll need better data.\n",
    "\n",
    "You can train on the [WMT10 French-English corpus](http://www.statmt.org/wmt10/training-giga-fren.tar).  This dataset has more vocabulary and richer in topics discussed.  However, this will take you days to train, so make sure you've a GPU and the neural network is performing well on dataset we provided.  Just make sure you play with the WMT10 corpus after you've submitted this project.\n",
    "## Submitting This Project\n",
    "When submitting this project, make sure to run all the cells before saving the notebook. Save the notebook file as \"dlnd_language_translation.ipynb\" and save it as a HTML file under \"File\" -> \"Download as\". Include the \"helper.py\" and \"problem_unittests.py\" files in your submission."
   ]
  }
 ],
 "metadata": {
  "anaconda-cloud": {},
  "kernelspec": {
   "display_name": "Python 3",
   "language": "python",
   "name": "python3"
  },
  "language_info": {
   "codemirror_mode": {
    "name": "ipython",
    "version": 3
   },
   "file_extension": ".py",
   "mimetype": "text/x-python",
   "name": "python",
   "nbconvert_exporter": "python",
   "pygments_lexer": "ipython3",
   "version": "3.5.3"
  }
 },
 "nbformat": 4,
 "nbformat_minor": 1
}
